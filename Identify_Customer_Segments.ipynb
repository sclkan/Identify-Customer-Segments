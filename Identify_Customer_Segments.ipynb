{
 "cells": [
  {
   "cell_type": "markdown",
   "metadata": {},
   "source": [
    "# Project: Identify Customer Segments\n",
    "\n",
    "In this project, you will apply unsupervised learning techniques to identify segments of the population that form the core customer base for a mail-order sales company in Germany. These segments can then be used to direct marketing campaigns towards audiences that will have the highest expected rate of returns. The data that you will use has been provided by our partners at Bertelsmann Arvato Analytics, and represents a real-life data science task.\n",
    "\n",
    "This notebook will help you complete this task by providing a framework within which you will perform your analysis steps. In each step of the project, you will see some text describing the subtask that you will perform, followed by one or more code cells for you to complete your work. **Feel free to add additional code and markdown cells as you go along so that you can explore everything in precise chunks.** The code cells provided in the base template will outline only the major tasks, and will usually not be enough to cover all of the minor tasks that comprise it.\n",
    "\n",
    "It should be noted that while there will be precise guidelines on how you should handle certain tasks in the project, there will also be places where an exact specification is not provided. **There will be times in the project where you will need to make and justify your own decisions on how to treat the data.** These are places where there may not be only one way to handle the data. In real-life tasks, there may be many valid ways to approach an analysis task. One of the most important things you can do is clearly document your approach so that other scientists can understand the decisions you've made.\n",
    "\n",
    "At the end of most sections, there will be a Markdown cell labeled **Discussion**. In these cells, you will report your findings for the completed section, as well as document the decisions that you made in your approach to each subtask. **Your project will be evaluated not just on the code used to complete the tasks outlined, but also your communication about your observations and conclusions at each stage.**"
   ]
  },
  {
   "cell_type": "code",
   "execution_count": 1,
   "metadata": {
    "scrolled": true
   },
   "outputs": [
    {
     "data": {
      "text/plain": [
       "'\\nImport note: The classroom currently uses sklearn version 0.19.\\nIf you need to use an imputer, it is available in sklearn.preprocessing.Imputer,\\ninstead of sklearn.impute as in newer versions of sklearn.\\n'"
      ]
     },
     "execution_count": 1,
     "metadata": {},
     "output_type": "execute_result"
    }
   ],
   "source": [
    "# import libraries here; add more as necessary\n",
    "import numpy as np\n",
    "import pandas as pd\n",
    "import matplotlib.pyplot as plt\n",
    "import seaborn as sb\n",
    "from sklearn.preprocessing import StandardScaler\n",
    "from sklearn.impute import SimpleImputer\n",
    "from sklearn.decomposition import PCA\n",
    "\n",
    "pd.options.mode.chained_assignment = None\n",
    "\n",
    "# magic word for producing visualizations in notebook\n",
    "%matplotlib inline\n",
    "\n",
    "'''\n",
    "Import note: The classroom currently uses sklearn version 0.19.\n",
    "If you need to use an imputer, it is available in sklearn.preprocessing.Imputer,\n",
    "instead of sklearn.impute as in newer versions of sklearn.\n",
    "'''"
   ]
  },
  {
   "cell_type": "markdown",
   "metadata": {},
   "source": [
    "### Step 0: Load the Data\n",
    "\n",
    "There are four files associated with this project (not including this one):\n",
    "\n",
    "- `Udacity_AZDIAS_Subset.csv`: Demographics data for the general population of Germany; 891211 persons (rows) x 85 features (columns).\n",
    "- `Udacity_CUSTOMERS_Subset.csv`: Demographics data for customers of a mail-order company; 191652 persons (rows) x 85 features (columns).\n",
    "- `Data_Dictionary.md`: Detailed information file about the features in the provided datasets.\n",
    "- `AZDIAS_Feature_Summary.csv`: Summary of feature attributes for demographics data; 85 features (rows) x 4 columns\n",
    "\n",
    "Each row of the demographics files represents a single person, but also includes information outside of individuals, including information about their household, building, and neighborhood. You will use this information to cluster the general population into groups with similar demographic properties. Then, you will see how the people in the customers dataset fit into those created clusters. The hope here is that certain clusters are over-represented in the customers data, as compared to the general population; those over-represented clusters will be assumed to be part of the core userbase. This information can then be used for further applications, such as targeting for a marketing campaign.\n",
    "\n",
    "To start off with, load in the demographics data for the general population into a pandas DataFrame, and do the same for the feature attributes summary. Note for all of the `.csv` data files in this project: they're semicolon (`;`) delimited, so you'll need an additional argument in your [`read_csv()`](https://pandas.pydata.org/pandas-docs/stable/generated/pandas.read_csv.html) call to read in the data properly. Also, considering the size of the main dataset, it may take some time for it to load completely.\n",
    "\n",
    "Once the dataset is loaded, it's recommended that you take a little bit of time just browsing the general structure of the dataset and feature summary file. You'll be getting deep into the innards of the cleaning in the first major step of the project, so gaining some general familiarity can help you get your bearings."
   ]
  },
  {
   "cell_type": "code",
   "execution_count": 2,
   "metadata": {},
   "outputs": [],
   "source": [
    "# Load in the general demographics data.\n",
    "azdias = pd.read_csv('Udacity_AZDIAS_Subset.csv', sep=';')\n",
    "\n",
    "# Load in the feature summary file.\n",
    "feat_info = pd.read_csv('AZDIAS_Feature_Summary.csv', sep=';')"
   ]
  },
  {
   "cell_type": "code",
   "execution_count": 3,
   "metadata": {
    "scrolled": false
   },
   "outputs": [
    {
     "data": {
      "text/html": [
       "<div>\n",
       "<style scoped>\n",
       "    .dataframe tbody tr th:only-of-type {\n",
       "        vertical-align: middle;\n",
       "    }\n",
       "\n",
       "    .dataframe tbody tr th {\n",
       "        vertical-align: top;\n",
       "    }\n",
       "\n",
       "    .dataframe thead th {\n",
       "        text-align: right;\n",
       "    }\n",
       "</style>\n",
       "<table border=\"1\" class=\"dataframe\">\n",
       "  <thead>\n",
       "    <tr style=\"text-align: right;\">\n",
       "      <th></th>\n",
       "      <th>AGER_TYP</th>\n",
       "      <th>ALTERSKATEGORIE_GROB</th>\n",
       "      <th>ANREDE_KZ</th>\n",
       "      <th>CJT_GESAMTTYP</th>\n",
       "      <th>FINANZ_MINIMALIST</th>\n",
       "      <th>FINANZ_SPARER</th>\n",
       "      <th>FINANZ_VORSORGER</th>\n",
       "      <th>FINANZ_ANLEGER</th>\n",
       "      <th>FINANZ_UNAUFFAELLIGER</th>\n",
       "      <th>FINANZ_HAUSBAUER</th>\n",
       "      <th>...</th>\n",
       "      <th>PLZ8_ANTG1</th>\n",
       "      <th>PLZ8_ANTG2</th>\n",
       "      <th>PLZ8_ANTG3</th>\n",
       "      <th>PLZ8_ANTG4</th>\n",
       "      <th>PLZ8_BAUMAX</th>\n",
       "      <th>PLZ8_HHZ</th>\n",
       "      <th>PLZ8_GBZ</th>\n",
       "      <th>ARBEIT</th>\n",
       "      <th>ORTSGR_KLS9</th>\n",
       "      <th>RELAT_AB</th>\n",
       "    </tr>\n",
       "  </thead>\n",
       "  <tbody>\n",
       "    <tr>\n",
       "      <td>0</td>\n",
       "      <td>-1</td>\n",
       "      <td>2</td>\n",
       "      <td>1</td>\n",
       "      <td>2.0</td>\n",
       "      <td>3</td>\n",
       "      <td>4</td>\n",
       "      <td>3</td>\n",
       "      <td>5</td>\n",
       "      <td>5</td>\n",
       "      <td>3</td>\n",
       "      <td>...</td>\n",
       "      <td>NaN</td>\n",
       "      <td>NaN</td>\n",
       "      <td>NaN</td>\n",
       "      <td>NaN</td>\n",
       "      <td>NaN</td>\n",
       "      <td>NaN</td>\n",
       "      <td>NaN</td>\n",
       "      <td>NaN</td>\n",
       "      <td>NaN</td>\n",
       "      <td>NaN</td>\n",
       "    </tr>\n",
       "    <tr>\n",
       "      <td>1</td>\n",
       "      <td>-1</td>\n",
       "      <td>1</td>\n",
       "      <td>2</td>\n",
       "      <td>5.0</td>\n",
       "      <td>1</td>\n",
       "      <td>5</td>\n",
       "      <td>2</td>\n",
       "      <td>5</td>\n",
       "      <td>4</td>\n",
       "      <td>5</td>\n",
       "      <td>...</td>\n",
       "      <td>2.0</td>\n",
       "      <td>3.0</td>\n",
       "      <td>2.0</td>\n",
       "      <td>1.0</td>\n",
       "      <td>1.0</td>\n",
       "      <td>5.0</td>\n",
       "      <td>4.0</td>\n",
       "      <td>3.0</td>\n",
       "      <td>5.0</td>\n",
       "      <td>4.0</td>\n",
       "    </tr>\n",
       "    <tr>\n",
       "      <td>2</td>\n",
       "      <td>-1</td>\n",
       "      <td>3</td>\n",
       "      <td>2</td>\n",
       "      <td>3.0</td>\n",
       "      <td>1</td>\n",
       "      <td>4</td>\n",
       "      <td>1</td>\n",
       "      <td>2</td>\n",
       "      <td>3</td>\n",
       "      <td>5</td>\n",
       "      <td>...</td>\n",
       "      <td>3.0</td>\n",
       "      <td>3.0</td>\n",
       "      <td>1.0</td>\n",
       "      <td>0.0</td>\n",
       "      <td>1.0</td>\n",
       "      <td>4.0</td>\n",
       "      <td>4.0</td>\n",
       "      <td>3.0</td>\n",
       "      <td>5.0</td>\n",
       "      <td>2.0</td>\n",
       "    </tr>\n",
       "    <tr>\n",
       "      <td>3</td>\n",
       "      <td>2</td>\n",
       "      <td>4</td>\n",
       "      <td>2</td>\n",
       "      <td>2.0</td>\n",
       "      <td>4</td>\n",
       "      <td>2</td>\n",
       "      <td>5</td>\n",
       "      <td>2</td>\n",
       "      <td>1</td>\n",
       "      <td>2</td>\n",
       "      <td>...</td>\n",
       "      <td>2.0</td>\n",
       "      <td>2.0</td>\n",
       "      <td>2.0</td>\n",
       "      <td>0.0</td>\n",
       "      <td>1.0</td>\n",
       "      <td>3.0</td>\n",
       "      <td>4.0</td>\n",
       "      <td>2.0</td>\n",
       "      <td>3.0</td>\n",
       "      <td>3.0</td>\n",
       "    </tr>\n",
       "    <tr>\n",
       "      <td>4</td>\n",
       "      <td>-1</td>\n",
       "      <td>3</td>\n",
       "      <td>1</td>\n",
       "      <td>5.0</td>\n",
       "      <td>4</td>\n",
       "      <td>3</td>\n",
       "      <td>4</td>\n",
       "      <td>1</td>\n",
       "      <td>3</td>\n",
       "      <td>2</td>\n",
       "      <td>...</td>\n",
       "      <td>2.0</td>\n",
       "      <td>4.0</td>\n",
       "      <td>2.0</td>\n",
       "      <td>1.0</td>\n",
       "      <td>2.0</td>\n",
       "      <td>3.0</td>\n",
       "      <td>3.0</td>\n",
       "      <td>4.0</td>\n",
       "      <td>6.0</td>\n",
       "      <td>5.0</td>\n",
       "    </tr>\n",
       "  </tbody>\n",
       "</table>\n",
       "<p>5 rows × 85 columns</p>\n",
       "</div>"
      ],
      "text/plain": [
       "   AGER_TYP  ALTERSKATEGORIE_GROB  ANREDE_KZ  CJT_GESAMTTYP  \\\n",
       "0        -1                     2          1            2.0   \n",
       "1        -1                     1          2            5.0   \n",
       "2        -1                     3          2            3.0   \n",
       "3         2                     4          2            2.0   \n",
       "4        -1                     3          1            5.0   \n",
       "\n",
       "   FINANZ_MINIMALIST  FINANZ_SPARER  FINANZ_VORSORGER  FINANZ_ANLEGER  \\\n",
       "0                  3              4                 3               5   \n",
       "1                  1              5                 2               5   \n",
       "2                  1              4                 1               2   \n",
       "3                  4              2                 5               2   \n",
       "4                  4              3                 4               1   \n",
       "\n",
       "   FINANZ_UNAUFFAELLIGER  FINANZ_HAUSBAUER  ...  PLZ8_ANTG1  PLZ8_ANTG2  \\\n",
       "0                      5                 3  ...         NaN         NaN   \n",
       "1                      4                 5  ...         2.0         3.0   \n",
       "2                      3                 5  ...         3.0         3.0   \n",
       "3                      1                 2  ...         2.0         2.0   \n",
       "4                      3                 2  ...         2.0         4.0   \n",
       "\n",
       "   PLZ8_ANTG3  PLZ8_ANTG4  PLZ8_BAUMAX  PLZ8_HHZ  PLZ8_GBZ  ARBEIT  \\\n",
       "0         NaN         NaN          NaN       NaN       NaN     NaN   \n",
       "1         2.0         1.0          1.0       5.0       4.0     3.0   \n",
       "2         1.0         0.0          1.0       4.0       4.0     3.0   \n",
       "3         2.0         0.0          1.0       3.0       4.0     2.0   \n",
       "4         2.0         1.0          2.0       3.0       3.0     4.0   \n",
       "\n",
       "   ORTSGR_KLS9  RELAT_AB  \n",
       "0          NaN       NaN  \n",
       "1          5.0       4.0  \n",
       "2          5.0       2.0  \n",
       "3          3.0       3.0  \n",
       "4          6.0       5.0  \n",
       "\n",
       "[5 rows x 85 columns]"
      ]
     },
     "execution_count": 3,
     "metadata": {},
     "output_type": "execute_result"
    }
   ],
   "source": [
    "# Check the structure of the data after it's loaded (e.g. print the number of\n",
    "# rows and columns, print the first few rows).\n",
    "azdias.head()"
   ]
  },
  {
   "cell_type": "code",
   "execution_count": 4,
   "metadata": {
    "scrolled": true
   },
   "outputs": [
    {
     "data": {
      "text/plain": [
       "<bound method DataFrame.query of                attribute information_level         type missing_or_unknown\n",
       "0               AGER_TYP            person  categorical             [-1,0]\n",
       "1   ALTERSKATEGORIE_GROB            person      ordinal           [-1,0,9]\n",
       "2              ANREDE_KZ            person  categorical             [-1,0]\n",
       "3          CJT_GESAMTTYP            person  categorical                [0]\n",
       "4      FINANZ_MINIMALIST            person      ordinal               [-1]\n",
       "..                   ...               ...          ...                ...\n",
       "80              PLZ8_HHZ    macrocell_plz8      ordinal               [-1]\n",
       "81              PLZ8_GBZ    macrocell_plz8      ordinal               [-1]\n",
       "82                ARBEIT         community      ordinal             [-1,9]\n",
       "83           ORTSGR_KLS9         community      ordinal             [-1,0]\n",
       "84              RELAT_AB         community      ordinal             [-1,9]\n",
       "\n",
       "[85 rows x 4 columns]>"
      ]
     },
     "execution_count": 4,
     "metadata": {},
     "output_type": "execute_result"
    }
   ],
   "source": [
    "feat_info.query"
   ]
  },
  {
   "cell_type": "code",
   "execution_count": 5,
   "metadata": {
    "scrolled": true
   },
   "outputs": [
    {
     "data": {
      "text/html": [
       "<div>\n",
       "<style scoped>\n",
       "    .dataframe tbody tr th:only-of-type {\n",
       "        vertical-align: middle;\n",
       "    }\n",
       "\n",
       "    .dataframe tbody tr th {\n",
       "        vertical-align: top;\n",
       "    }\n",
       "\n",
       "    .dataframe thead th {\n",
       "        text-align: right;\n",
       "    }\n",
       "</style>\n",
       "<table border=\"1\" class=\"dataframe\">\n",
       "  <thead>\n",
       "    <tr style=\"text-align: right;\">\n",
       "      <th></th>\n",
       "      <th>AGER_TYP</th>\n",
       "      <th>ALTERSKATEGORIE_GROB</th>\n",
       "      <th>ANREDE_KZ</th>\n",
       "      <th>CJT_GESAMTTYP</th>\n",
       "      <th>FINANZ_MINIMALIST</th>\n",
       "      <th>FINANZ_SPARER</th>\n",
       "      <th>FINANZ_VORSORGER</th>\n",
       "      <th>FINANZ_ANLEGER</th>\n",
       "      <th>FINANZ_UNAUFFAELLIGER</th>\n",
       "      <th>FINANZ_HAUSBAUER</th>\n",
       "      <th>...</th>\n",
       "      <th>PLZ8_ANTG1</th>\n",
       "      <th>PLZ8_ANTG2</th>\n",
       "      <th>PLZ8_ANTG3</th>\n",
       "      <th>PLZ8_ANTG4</th>\n",
       "      <th>PLZ8_BAUMAX</th>\n",
       "      <th>PLZ8_HHZ</th>\n",
       "      <th>PLZ8_GBZ</th>\n",
       "      <th>ARBEIT</th>\n",
       "      <th>ORTSGR_KLS9</th>\n",
       "      <th>RELAT_AB</th>\n",
       "    </tr>\n",
       "  </thead>\n",
       "  <tbody>\n",
       "    <tr>\n",
       "      <td>count</td>\n",
       "      <td>891221.000000</td>\n",
       "      <td>891221.000000</td>\n",
       "      <td>891221.000000</td>\n",
       "      <td>886367.000000</td>\n",
       "      <td>891221.000000</td>\n",
       "      <td>891221.000000</td>\n",
       "      <td>891221.000000</td>\n",
       "      <td>891221.000000</td>\n",
       "      <td>891221.000000</td>\n",
       "      <td>891221.000000</td>\n",
       "      <td>...</td>\n",
       "      <td>774706.000000</td>\n",
       "      <td>774706.000000</td>\n",
       "      <td>774706.000000</td>\n",
       "      <td>774706.000000</td>\n",
       "      <td>774706.000000</td>\n",
       "      <td>774706.000000</td>\n",
       "      <td>774706.000000</td>\n",
       "      <td>794005.000000</td>\n",
       "      <td>794005.000000</td>\n",
       "      <td>794005.00000</td>\n",
       "    </tr>\n",
       "    <tr>\n",
       "      <td>mean</td>\n",
       "      <td>-0.358435</td>\n",
       "      <td>2.777398</td>\n",
       "      <td>1.522098</td>\n",
       "      <td>3.632838</td>\n",
       "      <td>3.074528</td>\n",
       "      <td>2.821039</td>\n",
       "      <td>3.401106</td>\n",
       "      <td>3.033328</td>\n",
       "      <td>2.874167</td>\n",
       "      <td>3.075121</td>\n",
       "      <td>...</td>\n",
       "      <td>2.253330</td>\n",
       "      <td>2.801858</td>\n",
       "      <td>1.595426</td>\n",
       "      <td>0.699166</td>\n",
       "      <td>1.943913</td>\n",
       "      <td>3.612821</td>\n",
       "      <td>3.381087</td>\n",
       "      <td>3.167854</td>\n",
       "      <td>5.293002</td>\n",
       "      <td>3.07222</td>\n",
       "    </tr>\n",
       "    <tr>\n",
       "      <td>std</td>\n",
       "      <td>1.198724</td>\n",
       "      <td>1.068775</td>\n",
       "      <td>0.499512</td>\n",
       "      <td>1.595021</td>\n",
       "      <td>1.321055</td>\n",
       "      <td>1.464749</td>\n",
       "      <td>1.322134</td>\n",
       "      <td>1.529603</td>\n",
       "      <td>1.486731</td>\n",
       "      <td>1.353248</td>\n",
       "      <td>...</td>\n",
       "      <td>0.972008</td>\n",
       "      <td>0.920309</td>\n",
       "      <td>0.986736</td>\n",
       "      <td>0.727137</td>\n",
       "      <td>1.459654</td>\n",
       "      <td>0.973967</td>\n",
       "      <td>1.111598</td>\n",
       "      <td>1.002376</td>\n",
       "      <td>2.303739</td>\n",
       "      <td>1.36298</td>\n",
       "    </tr>\n",
       "    <tr>\n",
       "      <td>min</td>\n",
       "      <td>-1.000000</td>\n",
       "      <td>1.000000</td>\n",
       "      <td>1.000000</td>\n",
       "      <td>1.000000</td>\n",
       "      <td>1.000000</td>\n",
       "      <td>1.000000</td>\n",
       "      <td>1.000000</td>\n",
       "      <td>1.000000</td>\n",
       "      <td>1.000000</td>\n",
       "      <td>1.000000</td>\n",
       "      <td>...</td>\n",
       "      <td>0.000000</td>\n",
       "      <td>0.000000</td>\n",
       "      <td>0.000000</td>\n",
       "      <td>0.000000</td>\n",
       "      <td>1.000000</td>\n",
       "      <td>1.000000</td>\n",
       "      <td>1.000000</td>\n",
       "      <td>1.000000</td>\n",
       "      <td>0.000000</td>\n",
       "      <td>1.00000</td>\n",
       "    </tr>\n",
       "    <tr>\n",
       "      <td>25%</td>\n",
       "      <td>-1.000000</td>\n",
       "      <td>2.000000</td>\n",
       "      <td>1.000000</td>\n",
       "      <td>2.000000</td>\n",
       "      <td>2.000000</td>\n",
       "      <td>1.000000</td>\n",
       "      <td>3.000000</td>\n",
       "      <td>2.000000</td>\n",
       "      <td>2.000000</td>\n",
       "      <td>2.000000</td>\n",
       "      <td>...</td>\n",
       "      <td>1.000000</td>\n",
       "      <td>2.000000</td>\n",
       "      <td>1.000000</td>\n",
       "      <td>0.000000</td>\n",
       "      <td>1.000000</td>\n",
       "      <td>3.000000</td>\n",
       "      <td>3.000000</td>\n",
       "      <td>3.000000</td>\n",
       "      <td>4.000000</td>\n",
       "      <td>2.00000</td>\n",
       "    </tr>\n",
       "    <tr>\n",
       "      <td>50%</td>\n",
       "      <td>-1.000000</td>\n",
       "      <td>3.000000</td>\n",
       "      <td>2.000000</td>\n",
       "      <td>4.000000</td>\n",
       "      <td>3.000000</td>\n",
       "      <td>3.000000</td>\n",
       "      <td>3.000000</td>\n",
       "      <td>3.000000</td>\n",
       "      <td>3.000000</td>\n",
       "      <td>3.000000</td>\n",
       "      <td>...</td>\n",
       "      <td>2.000000</td>\n",
       "      <td>3.000000</td>\n",
       "      <td>2.000000</td>\n",
       "      <td>1.000000</td>\n",
       "      <td>1.000000</td>\n",
       "      <td>4.000000</td>\n",
       "      <td>3.000000</td>\n",
       "      <td>3.000000</td>\n",
       "      <td>5.000000</td>\n",
       "      <td>3.00000</td>\n",
       "    </tr>\n",
       "    <tr>\n",
       "      <td>75%</td>\n",
       "      <td>-1.000000</td>\n",
       "      <td>4.000000</td>\n",
       "      <td>2.000000</td>\n",
       "      <td>5.000000</td>\n",
       "      <td>4.000000</td>\n",
       "      <td>4.000000</td>\n",
       "      <td>5.000000</td>\n",
       "      <td>5.000000</td>\n",
       "      <td>4.000000</td>\n",
       "      <td>4.000000</td>\n",
       "      <td>...</td>\n",
       "      <td>3.000000</td>\n",
       "      <td>3.000000</td>\n",
       "      <td>2.000000</td>\n",
       "      <td>1.000000</td>\n",
       "      <td>3.000000</td>\n",
       "      <td>4.000000</td>\n",
       "      <td>4.000000</td>\n",
       "      <td>4.000000</td>\n",
       "      <td>7.000000</td>\n",
       "      <td>4.00000</td>\n",
       "    </tr>\n",
       "    <tr>\n",
       "      <td>max</td>\n",
       "      <td>3.000000</td>\n",
       "      <td>9.000000</td>\n",
       "      <td>2.000000</td>\n",
       "      <td>6.000000</td>\n",
       "      <td>5.000000</td>\n",
       "      <td>5.000000</td>\n",
       "      <td>5.000000</td>\n",
       "      <td>5.000000</td>\n",
       "      <td>5.000000</td>\n",
       "      <td>5.000000</td>\n",
       "      <td>...</td>\n",
       "      <td>4.000000</td>\n",
       "      <td>4.000000</td>\n",
       "      <td>3.000000</td>\n",
       "      <td>2.000000</td>\n",
       "      <td>5.000000</td>\n",
       "      <td>5.000000</td>\n",
       "      <td>5.000000</td>\n",
       "      <td>9.000000</td>\n",
       "      <td>9.000000</td>\n",
       "      <td>9.00000</td>\n",
       "    </tr>\n",
       "  </tbody>\n",
       "</table>\n",
       "<p>8 rows × 81 columns</p>\n",
       "</div>"
      ],
      "text/plain": [
       "            AGER_TYP  ALTERSKATEGORIE_GROB      ANREDE_KZ  CJT_GESAMTTYP  \\\n",
       "count  891221.000000         891221.000000  891221.000000  886367.000000   \n",
       "mean       -0.358435              2.777398       1.522098       3.632838   \n",
       "std         1.198724              1.068775       0.499512       1.595021   \n",
       "min        -1.000000              1.000000       1.000000       1.000000   \n",
       "25%        -1.000000              2.000000       1.000000       2.000000   \n",
       "50%        -1.000000              3.000000       2.000000       4.000000   \n",
       "75%        -1.000000              4.000000       2.000000       5.000000   \n",
       "max         3.000000              9.000000       2.000000       6.000000   \n",
       "\n",
       "       FINANZ_MINIMALIST  FINANZ_SPARER  FINANZ_VORSORGER  FINANZ_ANLEGER  \\\n",
       "count      891221.000000  891221.000000     891221.000000   891221.000000   \n",
       "mean            3.074528       2.821039          3.401106        3.033328   \n",
       "std             1.321055       1.464749          1.322134        1.529603   \n",
       "min             1.000000       1.000000          1.000000        1.000000   \n",
       "25%             2.000000       1.000000          3.000000        2.000000   \n",
       "50%             3.000000       3.000000          3.000000        3.000000   \n",
       "75%             4.000000       4.000000          5.000000        5.000000   \n",
       "max             5.000000       5.000000          5.000000        5.000000   \n",
       "\n",
       "       FINANZ_UNAUFFAELLIGER  FINANZ_HAUSBAUER  ...     PLZ8_ANTG1  \\\n",
       "count          891221.000000     891221.000000  ...  774706.000000   \n",
       "mean                2.874167          3.075121  ...       2.253330   \n",
       "std                 1.486731          1.353248  ...       0.972008   \n",
       "min                 1.000000          1.000000  ...       0.000000   \n",
       "25%                 2.000000          2.000000  ...       1.000000   \n",
       "50%                 3.000000          3.000000  ...       2.000000   \n",
       "75%                 4.000000          4.000000  ...       3.000000   \n",
       "max                 5.000000          5.000000  ...       4.000000   \n",
       "\n",
       "          PLZ8_ANTG2     PLZ8_ANTG3     PLZ8_ANTG4    PLZ8_BAUMAX  \\\n",
       "count  774706.000000  774706.000000  774706.000000  774706.000000   \n",
       "mean        2.801858       1.595426       0.699166       1.943913   \n",
       "std         0.920309       0.986736       0.727137       1.459654   \n",
       "min         0.000000       0.000000       0.000000       1.000000   \n",
       "25%         2.000000       1.000000       0.000000       1.000000   \n",
       "50%         3.000000       2.000000       1.000000       1.000000   \n",
       "75%         3.000000       2.000000       1.000000       3.000000   \n",
       "max         4.000000       3.000000       2.000000       5.000000   \n",
       "\n",
       "            PLZ8_HHZ       PLZ8_GBZ         ARBEIT    ORTSGR_KLS9  \\\n",
       "count  774706.000000  774706.000000  794005.000000  794005.000000   \n",
       "mean        3.612821       3.381087       3.167854       5.293002   \n",
       "std         0.973967       1.111598       1.002376       2.303739   \n",
       "min         1.000000       1.000000       1.000000       0.000000   \n",
       "25%         3.000000       3.000000       3.000000       4.000000   \n",
       "50%         4.000000       3.000000       3.000000       5.000000   \n",
       "75%         4.000000       4.000000       4.000000       7.000000   \n",
       "max         5.000000       5.000000       9.000000       9.000000   \n",
       "\n",
       "           RELAT_AB  \n",
       "count  794005.00000  \n",
       "mean        3.07222  \n",
       "std         1.36298  \n",
       "min         1.00000  \n",
       "25%         2.00000  \n",
       "50%         3.00000  \n",
       "75%         4.00000  \n",
       "max         9.00000  \n",
       "\n",
       "[8 rows x 81 columns]"
      ]
     },
     "execution_count": 5,
     "metadata": {},
     "output_type": "execute_result"
    }
   ],
   "source": [
    "azdias.describe()"
   ]
  },
  {
   "cell_type": "markdown",
   "metadata": {},
   "source": [
    "> **Tip**: Add additional cells to keep everything in reasonably-sized chunks! Keyboard shortcut `esc --> a` (press escape to enter command mode, then press the 'A' key) adds a new cell before the active cell, and `esc --> b` adds a new cell after the active cell. If you need to convert an active cell to a markdown cell, use `esc --> m` and to convert to a code cell, use `esc --> y`. \n",
    "\n",
    "## Step 1: Preprocessing\n",
    "\n",
    "### Step 1.1: Assess Missing Data\n",
    "\n",
    "The feature summary file contains a summary of properties for each demographics data column. You will use this file to help you make cleaning decisions during this stage of the project. First of all, you should assess the demographics data in terms of missing data. Pay attention to the following points as you perform your analysis, and take notes on what you observe. Make sure that you fill in the **Discussion** cell with your findings and decisions at the end of each step that has one!\n",
    "\n",
    "#### Step 1.1.1: Convert Missing Value Codes to NaNs\n",
    "The fourth column of the feature attributes summary (loaded in above as `feat_info`) documents the codes from the data dictionary that indicate missing or unknown data. While the file encodes this as a list (e.g. `[-1,0]`), this will get read in as a string object. You'll need to do a little bit of parsing to make use of it to identify and clean the data. Convert data that matches a 'missing' or 'unknown' value code into a numpy NaN value. You might want to see how much data takes on a 'missing' or 'unknown' code, and how much data is naturally missing, as a point of interest.\n",
    "\n",
    "**As one more reminder, you are encouraged to add additional cells to break up your analysis into manageable chunks.**"
   ]
  },
  {
   "cell_type": "code",
   "execution_count": 6,
   "metadata": {
    "scrolled": true
   },
   "outputs": [],
   "source": [
    "#Clone feat_info\n",
    "missing = feat_info.copy()\n",
    "clean = azdias.copy()"
   ]
  },
  {
   "cell_type": "code",
   "execution_count": 7,
   "metadata": {
    "scrolled": false
   },
   "outputs": [],
   "source": [
    "#Remove entries that do not have any missing/unknown values\n",
    "missing = missing.query('missing_or_unknown != \"[]\"')"
   ]
  },
  {
   "cell_type": "code",
   "execution_count": 8,
   "metadata": {},
   "outputs": [],
   "source": [
    "#Remove irrelevant columns atm\n",
    "missing.drop(['information_level','type'], axis=1, inplace=True)\n",
    "\n",
    "#Set index\n",
    "missing.set_index('attribute', inplace=True)\n",
    "\n",
    "#Get rid of the brackets and split entries with multiple missing values\n",
    "missing.missing_or_unknown = missing.missing_or_unknown.str.replace(r'[\\[\\]]','').str.split(',')"
   ]
  },
  {
   "cell_type": "code",
   "execution_count": 9,
   "metadata": {
    "scrolled": true
   },
   "outputs": [],
   "source": [
    "#Replace any missing/unknown values with Null\n",
    "\n",
    "for index, value in missing.itertuples():\n",
    "    for i in value:\n",
    "        #For integers\n",
    "        try:\n",
    "            clean.loc[clean[index]== int(i), index] = np.nan\n",
    "            clean[index] = clean[index].astype('Int64')\n",
    "        #For non intergers\n",
    "        except:\n",
    "            clean.loc[clean[index]== i, index] = np.nan"
   ]
  },
  {
   "cell_type": "code",
   "execution_count": 10,
   "metadata": {
    "scrolled": true
   },
   "outputs": [
    {
     "data": {
      "text/html": [
       "<div>\n",
       "<style scoped>\n",
       "    .dataframe tbody tr th:only-of-type {\n",
       "        vertical-align: middle;\n",
       "    }\n",
       "\n",
       "    .dataframe tbody tr th {\n",
       "        vertical-align: top;\n",
       "    }\n",
       "\n",
       "    .dataframe thead th {\n",
       "        text-align: right;\n",
       "    }\n",
       "</style>\n",
       "<table border=\"1\" class=\"dataframe\">\n",
       "  <thead>\n",
       "    <tr style=\"text-align: right;\">\n",
       "      <th></th>\n",
       "      <th>AGER_TYP</th>\n",
       "      <th>ALTERSKATEGORIE_GROB</th>\n",
       "      <th>ANREDE_KZ</th>\n",
       "      <th>CJT_GESAMTTYP</th>\n",
       "      <th>FINANZ_MINIMALIST</th>\n",
       "      <th>FINANZ_SPARER</th>\n",
       "      <th>FINANZ_VORSORGER</th>\n",
       "      <th>FINANZ_ANLEGER</th>\n",
       "      <th>FINANZ_UNAUFFAELLIGER</th>\n",
       "      <th>FINANZ_HAUSBAUER</th>\n",
       "      <th>...</th>\n",
       "      <th>PLZ8_ANTG1</th>\n",
       "      <th>PLZ8_ANTG2</th>\n",
       "      <th>PLZ8_ANTG3</th>\n",
       "      <th>PLZ8_ANTG4</th>\n",
       "      <th>PLZ8_BAUMAX</th>\n",
       "      <th>PLZ8_HHZ</th>\n",
       "      <th>PLZ8_GBZ</th>\n",
       "      <th>ARBEIT</th>\n",
       "      <th>ORTSGR_KLS9</th>\n",
       "      <th>RELAT_AB</th>\n",
       "    </tr>\n",
       "  </thead>\n",
       "  <tbody>\n",
       "    <tr>\n",
       "      <td>822333</td>\n",
       "      <td>1</td>\n",
       "      <td>4</td>\n",
       "      <td>1</td>\n",
       "      <td>2</td>\n",
       "      <td>5</td>\n",
       "      <td>1</td>\n",
       "      <td>5</td>\n",
       "      <td>1</td>\n",
       "      <td>1</td>\n",
       "      <td>2</td>\n",
       "      <td>...</td>\n",
       "      <td>2</td>\n",
       "      <td>3</td>\n",
       "      <td>2</td>\n",
       "      <td>1</td>\n",
       "      <td>1</td>\n",
       "      <td>4</td>\n",
       "      <td>4</td>\n",
       "      <td>3</td>\n",
       "      <td>5</td>\n",
       "      <td>3</td>\n",
       "    </tr>\n",
       "    <tr>\n",
       "      <td>454824</td>\n",
       "      <td>NaN</td>\n",
       "      <td>3</td>\n",
       "      <td>1</td>\n",
       "      <td>4</td>\n",
       "      <td>2</td>\n",
       "      <td>5</td>\n",
       "      <td>2</td>\n",
       "      <td>3</td>\n",
       "      <td>4</td>\n",
       "      <td>4</td>\n",
       "      <td>...</td>\n",
       "      <td>1</td>\n",
       "      <td>4</td>\n",
       "      <td>3</td>\n",
       "      <td>2</td>\n",
       "      <td>4</td>\n",
       "      <td>5</td>\n",
       "      <td>3</td>\n",
       "      <td>3</td>\n",
       "      <td>7</td>\n",
       "      <td>5</td>\n",
       "    </tr>\n",
       "    <tr>\n",
       "      <td>351640</td>\n",
       "      <td>NaN</td>\n",
       "      <td>2</td>\n",
       "      <td>2</td>\n",
       "      <td>2</td>\n",
       "      <td>3</td>\n",
       "      <td>4</td>\n",
       "      <td>3</td>\n",
       "      <td>5</td>\n",
       "      <td>5</td>\n",
       "      <td>3</td>\n",
       "      <td>...</td>\n",
       "      <td>NaN</td>\n",
       "      <td>NaN</td>\n",
       "      <td>NaN</td>\n",
       "      <td>NaN</td>\n",
       "      <td>NaN</td>\n",
       "      <td>NaN</td>\n",
       "      <td>NaN</td>\n",
       "      <td>NaN</td>\n",
       "      <td>NaN</td>\n",
       "      <td>NaN</td>\n",
       "    </tr>\n",
       "    <tr>\n",
       "      <td>454833</td>\n",
       "      <td>NaN</td>\n",
       "      <td>2</td>\n",
       "      <td>2</td>\n",
       "      <td>2</td>\n",
       "      <td>4</td>\n",
       "      <td>3</td>\n",
       "      <td>1</td>\n",
       "      <td>5</td>\n",
       "      <td>3</td>\n",
       "      <td>2</td>\n",
       "      <td>...</td>\n",
       "      <td>2</td>\n",
       "      <td>3</td>\n",
       "      <td>2</td>\n",
       "      <td>0</td>\n",
       "      <td>1</td>\n",
       "      <td>5</td>\n",
       "      <td>5</td>\n",
       "      <td>4</td>\n",
       "      <td>3</td>\n",
       "      <td>4</td>\n",
       "    </tr>\n",
       "    <tr>\n",
       "      <td>678193</td>\n",
       "      <td>1</td>\n",
       "      <td>4</td>\n",
       "      <td>2</td>\n",
       "      <td>4</td>\n",
       "      <td>2</td>\n",
       "      <td>1</td>\n",
       "      <td>4</td>\n",
       "      <td>1</td>\n",
       "      <td>1</td>\n",
       "      <td>5</td>\n",
       "      <td>...</td>\n",
       "      <td>1</td>\n",
       "      <td>4</td>\n",
       "      <td>3</td>\n",
       "      <td>2</td>\n",
       "      <td>4</td>\n",
       "      <td>3</td>\n",
       "      <td>2</td>\n",
       "      <td>4</td>\n",
       "      <td>8</td>\n",
       "      <td>4</td>\n",
       "    </tr>\n",
       "  </tbody>\n",
       "</table>\n",
       "<p>5 rows × 85 columns</p>\n",
       "</div>"
      ],
      "text/plain": [
       "        AGER_TYP  ALTERSKATEGORIE_GROB  ANREDE_KZ  CJT_GESAMTTYP  \\\n",
       "822333         1                     4          1              2   \n",
       "454824       NaN                     3          1              4   \n",
       "351640       NaN                     2          2              2   \n",
       "454833       NaN                     2          2              2   \n",
       "678193         1                     4          2              4   \n",
       "\n",
       "        FINANZ_MINIMALIST  FINANZ_SPARER  FINANZ_VORSORGER  FINANZ_ANLEGER  \\\n",
       "822333                  5              1                 5               1   \n",
       "454824                  2              5                 2               3   \n",
       "351640                  3              4                 3               5   \n",
       "454833                  4              3                 1               5   \n",
       "678193                  2              1                 4               1   \n",
       "\n",
       "        FINANZ_UNAUFFAELLIGER  FINANZ_HAUSBAUER  ...  PLZ8_ANTG1  PLZ8_ANTG2  \\\n",
       "822333                      1                 2  ...           2           3   \n",
       "454824                      4                 4  ...           1           4   \n",
       "351640                      5                 3  ...         NaN         NaN   \n",
       "454833                      3                 2  ...           2           3   \n",
       "678193                      1                 5  ...           1           4   \n",
       "\n",
       "        PLZ8_ANTG3  PLZ8_ANTG4  PLZ8_BAUMAX  PLZ8_HHZ  PLZ8_GBZ  ARBEIT  \\\n",
       "822333           2           1            1         4         4       3   \n",
       "454824           3           2            4         5         3       3   \n",
       "351640         NaN         NaN          NaN       NaN       NaN     NaN   \n",
       "454833           2           0            1         5         5       4   \n",
       "678193           3           2            4         3         2       4   \n",
       "\n",
       "        ORTSGR_KLS9  RELAT_AB  \n",
       "822333            5         3  \n",
       "454824            7         5  \n",
       "351640          NaN       NaN  \n",
       "454833            3         4  \n",
       "678193            8         4  \n",
       "\n",
       "[5 rows x 85 columns]"
      ]
     },
     "execution_count": 10,
     "metadata": {},
     "output_type": "execute_result"
    }
   ],
   "source": [
    "#Spot check\n",
    "clean.sample(5)"
   ]
  },
  {
   "cell_type": "markdown",
   "metadata": {},
   "source": [
    "Investigate to see why there are some columns being labeled as floats.  Convert to int if necessary"
   ]
  },
  {
   "cell_type": "code",
   "execution_count": 11,
   "metadata": {
    "scrolled": false
   },
   "outputs": [
    {
     "data": {
      "text/plain": [
       "['GFK_URLAUBERTYP',\n",
       " 'ANZ_PERSONEN',\n",
       " 'ANZ_TITEL',\n",
       " 'ANZ_HH_TITEL',\n",
       " 'KONSUMNAEHE',\n",
       " 'GEBAEUDETYP_RASTER',\n",
       " 'MOBI_REGIO',\n",
       " 'ONLINE_AFFINITAET',\n",
       " 'KBA13_ANZAHL_PKW']"
      ]
     },
     "execution_count": 11,
     "metadata": {},
     "output_type": "execute_result"
    }
   ],
   "source": [
    "list(clean.select_dtypes(['float64']).columns)"
   ]
  },
  {
   "cell_type": "markdown",
   "metadata": {},
   "source": [
    "All the possible values in Data_Dictionary.md for *GFK_URLAUBERTYP*, *KONSUMNAEHE*, *GEBAEUDETYP_RASTER*, *MOBI_REGIO*, and *ONLINE_AFFINITAET* are whole numbers.  So it does not make sense to have these columns as floats.\n",
    "\n",
    "*ANZ_PERSONEN*, *ANZ_TITEL*, *ANZ_HH_TITEL*, and *KBA13_ANZAHL_PKW* are open-ended questions, however by reading through the these columns should be in whole numbers as well.  IE: It does not make sense to have a decimal as the answer for the number of households in a building (*ANZ_PERSONEN*)."
   ]
  },
  {
   "cell_type": "code",
   "execution_count": 12,
   "metadata": {},
   "outputs": [],
   "source": [
    "convert = list(clean.select_dtypes(['float64']).columns)\n",
    "for i in convert:\n",
    "    clean[i] = clean[i].astype('Int64')"
   ]
  },
  {
   "cell_type": "code",
   "execution_count": 13,
   "metadata": {
    "scrolled": true
   },
   "outputs": [
    {
     "data": {
      "text/plain": [
       "[]"
      ]
     },
     "execution_count": 13,
     "metadata": {},
     "output_type": "execute_result"
    }
   ],
   "source": [
    "#Spot check\n",
    "list(clean.select_dtypes(['float64']).columns)"
   ]
  },
  {
   "cell_type": "markdown",
   "metadata": {},
   "source": [
    "Investigate to see why there are some columns being labeled as strings. Convert to int if necessary"
   ]
  },
  {
   "cell_type": "code",
   "execution_count": 14,
   "metadata": {
    "scrolled": true
   },
   "outputs": [
    {
     "data": {
      "text/plain": [
       "['OST_WEST_KZ', 'CAMEO_DEUG_2015', 'CAMEO_DEU_2015', 'CAMEO_INTL_2015']"
      ]
     },
     "execution_count": 14,
     "metadata": {},
     "output_type": "execute_result"
    }
   ],
   "source": [
    "list(clean.select_dtypes(['object']).columns)"
   ]
  },
  {
   "cell_type": "markdown",
   "metadata": {},
   "source": [
    "*OST_WEST_KZ* and *CAMEO_DEU_2015* both return alphanumeric vaules, so it makes sense for these columns to be labeled as strings.\n",
    "\n",
    "However, *CAMEO_DEUG_2015* and *CAMEO_INTL_2015* only contain whole numbers, so they should be identified as integer columns."
   ]
  },
  {
   "cell_type": "code",
   "execution_count": 15,
   "metadata": {
    "scrolled": false
   },
   "outputs": [],
   "source": [
    "clean['CAMEO_DEUG_2015'] = clean.CAMEO_DEUG_2015.astype('float').astype('Int64')\n",
    "clean['CAMEO_INTL_2015'] = clean.CAMEO_INTL_2015.astype('float').astype('Int64')"
   ]
  },
  {
   "cell_type": "markdown",
   "metadata": {},
   "source": [
    "#### Step 1.1.2: Assess Missing Data in Each Column\n",
    "\n",
    "How much missing data is present in each column? There are a few columns that are outliers in terms of the proportion of values that are missing. You will want to use matplotlib's [`hist()`](https://matplotlib.org/api/_as_gen/matplotlib.pyplot.hist.html) function to visualize the distribution of missing value counts to find these columns. Identify and document these columns. While some of these columns might have justifications for keeping or re-encoding the data, for this project you should just remove them from the dataframe. (Feel free to make remarks about these outlier columns in the discussion, however!)\n",
    "\n",
    "For the remaining features, are there any patterns in which columns have, or share, missing data?"
   ]
  },
  {
   "cell_type": "code",
   "execution_count": 16,
   "metadata": {},
   "outputs": [],
   "source": [
    "# Perform an assessment of how much missing data there is in each column of the dataset\n",
    "missing_columns = clean.isnull().sum() / clean.shape[0] * 100"
   ]
  },
  {
   "cell_type": "code",
   "execution_count": 17,
   "metadata": {
    "scrolled": false
   },
   "outputs": [
    {
     "data": {
      "text/plain": [
       "AGER_TYP                 True\n",
       "ALTERSKATEGORIE_GROB    False\n",
       "ANREDE_KZ               False\n",
       "CJT_GESAMTTYP           False\n",
       "FINANZ_MINIMALIST       False\n",
       "                        ...  \n",
       "PLZ8_HHZ                False\n",
       "PLZ8_GBZ                False\n",
       "ARBEIT                  False\n",
       "ORTSGR_KLS9             False\n",
       "RELAT_AB                False\n",
       "Length: 85, dtype: bool"
      ]
     },
     "execution_count": 17,
     "metadata": {},
     "output_type": "execute_result"
    }
   ],
   "source": [
    "clean.isnull().sum() / clean.shape[0] * 100 > 20"
   ]
  },
  {
   "cell_type": "code",
   "execution_count": 18,
   "metadata": {},
   "outputs": [
    {
     "data": {
      "text/plain": [
       "AGER_TYP                76.955435\n",
       "ALTERSKATEGORIE_GROB     0.323264\n",
       "ANREDE_KZ                0.000000\n",
       "CJT_GESAMTTYP            0.544646\n",
       "FINANZ_MINIMALIST        0.000000\n",
       "                          ...    \n",
       "PLZ8_HHZ                13.073637\n",
       "PLZ8_GBZ                13.073637\n",
       "ARBEIT                  10.926022\n",
       "ORTSGR_KLS9             10.914689\n",
       "RELAT_AB                10.926022\n",
       "Length: 85, dtype: float64"
      ]
     },
     "execution_count": 18,
     "metadata": {},
     "output_type": "execute_result"
    }
   ],
   "source": [
    "missing_columns"
   ]
  },
  {
   "cell_type": "code",
   "execution_count": 19,
   "metadata": {
    "scrolled": true
   },
   "outputs": [
    {
     "data": {
      "text/plain": [
       "Index(['AGER_TYP', 'GEBURTSJAHR', 'HEALTH_TYP', 'LP_LEBENSPHASE_FEIN',\n",
       "       'LP_LEBENSPHASE_GROB', 'NATIONALITAET_KZ', 'PRAEGENDE_JUGENDJAHRE',\n",
       "       'SHOPPER_TYP', 'TITEL_KZ', 'VERS_TYP', 'ALTER_HH', 'KK_KUNDENTYP',\n",
       "       'W_KEIT_KIND_HH', 'ANZ_HAUSHALTE_AKTIV', 'ANZ_HH_TITEL', 'GEBAEUDETYP',\n",
       "       'MIN_GEBAEUDEJAHR', 'OST_WEST_KZ', 'WOHNLAGE', 'CAMEO_DEUG_2015',\n",
       "       'CAMEO_DEU_2015', 'CAMEO_INTL_2015', 'KBA05_ANTG1', 'KBA05_ANTG2',\n",
       "       'KBA05_ANTG3', 'KBA05_ANTG4', 'KBA05_BAUMAX', 'KBA05_GBZ', 'BALLRAUM',\n",
       "       'EWDICHTE', 'INNENSTADT', 'GEBAEUDETYP_RASTER', 'KKK', 'MOBI_REGIO',\n",
       "       'REGIOTYP', 'KBA13_ANZAHL_PKW', 'PLZ8_ANTG1', 'PLZ8_ANTG2',\n",
       "       'PLZ8_ANTG3', 'PLZ8_ANTG4', 'PLZ8_BAUMAX', 'PLZ8_HHZ', 'PLZ8_GBZ',\n",
       "       'ARBEIT', 'ORTSGR_KLS9', 'RELAT_AB'],\n",
       "      dtype='object')"
      ]
     },
     "execution_count": 19,
     "metadata": {},
     "output_type": "execute_result"
    }
   ],
   "source": [
    "missing_columns[missing_columns  > 10].index"
   ]
  },
  {
   "cell_type": "code",
   "execution_count": 20,
   "metadata": {},
   "outputs": [
    {
     "data": {
      "text/plain": [
       "count    85.000000\n",
       "mean     11.054139\n",
       "std      16.449815\n",
       "min       0.000000\n",
       "25%       0.000000\n",
       "50%      10.451729\n",
       "75%      13.073637\n",
       "max      99.757636\n",
       "dtype: float64"
      ]
     },
     "execution_count": 20,
     "metadata": {},
     "output_type": "execute_result"
    }
   ],
   "source": [
    "missing_columns.describe()"
   ]
  },
  {
   "cell_type": "code",
   "execution_count": 21,
   "metadata": {
    "scrolled": false
   },
   "outputs": [
    {
     "data": {
      "image/png": "[encoded data removed]",
      "text/plain": [
       "<Figure size 576x360 with 1 Axes>"
      ]
     },
     "metadata": {
      "needs_background": "light"
     },
     "output_type": "display_data"
    }
   ],
   "source": [
    "plt.figure(figsize=[8,5])\n",
    "plt.hist(missing_columns, bins=50)\n",
    "plt.ylabel('Frequency')\n",
    "plt.xlabel('% of Missing Values')\n",
    "plt.title('Histogram of Missing Values (Columns)');"
   ]
  },
  {
   "cell_type": "code",
   "execution_count": 22,
   "metadata": {
    "scrolled": false
   },
   "outputs": [
    {
     "data": {
      "text/plain": [
       "TITEL_KZ          99.757636\n",
       "AGER_TYP          76.955435\n",
       "KK_KUNDENTYP      65.596749\n",
       "KBA05_BAUMAX      53.468668\n",
       "GEBURTSJAHR       44.020282\n",
       "ALTER_HH          34.813699\n",
       "REGIOTYP          17.735668\n",
       "KKK               17.735668\n",
       "W_KEIT_KIND_HH    16.605084\n",
       "KBA05_ANTG4       14.959701\n",
       "dtype: float64"
      ]
     },
     "execution_count": 22,
     "metadata": {},
     "output_type": "execute_result"
    }
   ],
   "source": [
    "# Investigate patterns in the amount of missing data in each column.\n",
    "missing_columns.sort_values(ascending=False).head(10)"
   ]
  },
  {
   "cell_type": "code",
   "execution_count": 23,
   "metadata": {
    "scrolled": true
   },
   "outputs": [
    {
     "data": {
      "image/png": "[encoded data removed]",
      "text/plain": [
       "<Figure size 144x432 with 1 Axes>"
      ]
     },
     "metadata": {
      "needs_background": "light"
     },
     "output_type": "display_data"
    }
   ],
   "source": [
    "#Use boxplot aka the IQR to find outlineres\n",
    "plt.figure(figsize=[2,6])\n",
    "sb.boxplot(y= missing_columns);"
   ]
  },
  {
   "cell_type": "markdown",
   "metadata": {},
   "source": [
    "As a rule of thumb, anything above the upper whisker of a boxplot is considered an outliner.  We can see that there are 6 outliners for this dataset."
   ]
  },
  {
   "cell_type": "code",
   "execution_count": 24,
   "metadata": {},
   "outputs": [],
   "source": [
    "# Remove the outlier columns from the dataset. (You'll perform other data\n",
    "# engineering tasks such as re-encoding and imputation later.)\n",
    "drop = missing_columns.sort_values(ascending=False).head(6).index\n",
    "clean.drop(drop, axis=1, inplace=True)"
   ]
  },
  {
   "cell_type": "code",
   "execution_count": 25,
   "metadata": {},
   "outputs": [
    {
     "data": {
      "text/plain": [
       "Index(['TITEL_KZ', 'AGER_TYP', 'KK_KUNDENTYP', 'KBA05_BAUMAX', 'GEBURTSJAHR',\n",
       "       'ALTER_HH'],\n",
       "      dtype='object')"
      ]
     },
     "execution_count": 25,
     "metadata": {},
     "output_type": "execute_result"
    }
   ],
   "source": [
    "drop"
   ]
  },
  {
   "cell_type": "code",
   "execution_count": 26,
   "metadata": {
    "scrolled": false
   },
   "outputs": [
    {
     "data": {
      "text/plain": [
       "(891221, 79)"
      ]
     },
     "execution_count": 26,
     "metadata": {},
     "output_type": "execute_result"
    }
   ],
   "source": [
    "#Double check\n",
    "clean.shape"
   ]
  },
  {
   "cell_type": "markdown",
   "metadata": {},
   "source": [
    "#### Discussion 1.1.2: Assess Missing Data in Each Column\n",
    "\n",
    "We can see that 75% of the columns are missing 13 or fewer data points.  When using the Interquartile Rule to weed out the outliers, we are able to remove 6 columns: *academic title flag (TITEL_KZ)*, *best-ager typology (AGER_TYP)*, *consumer pattern over past 12 months (KK_KUNDENTYP)*, *most common building type within the microcell (KBA05_BAUMAX)*, *year of birth (GEBURTSJAHR)* and *birthdate of head of household (ALTER_HH)*."
   ]
  },
  {
   "cell_type": "markdown",
   "metadata": {},
   "source": [
    "#### Step 1.1.3: Assess Missing Data in Each Row\n",
    "\n",
    "Now, you'll perform a similar assessment for the rows of the dataset. How much data is missing in each row? As with the columns, you should see some groups of points that have a very different numbers of missing values. Divide the data into two subsets: one for data points that are above some threshold for missing values, and a second subset for points below that threshold.\n",
    "\n",
    "In order to know what to do with the outlier rows, we should see if the distribution of data values on columns that are not missing data (or are missing very little data) are similar or different between the two groups. Select at least five of these columns and compare the distribution of values.\n",
    "- You can use seaborn's [`countplot()`](https://seaborn.pydata.org/generated/seaborn.countplot.html) function to create a bar chart of code frequencies and matplotlib's [`subplot()`](https://matplotlib.org/api/_as_gen/matplotlib.pyplot.subplot.html) function to put bar charts for the two subplots side by side.\n",
    "- To reduce repeated code, you might want to write a function that can perform this comparison, taking as one of its arguments a column to be compared.\n",
    "\n",
    "Depending on what you observe in your comparison, this will have implications on how you approach your conclusions later in the analysis. If the distributions of non-missing features look similar between the data with many missing values and the data with few or no missing values, then we could argue that simply dropping those points from the analysis won't present a major issue. On the other hand, if the data with many missing values looks very different from the data with few or no missing values, then we should make a note on those data as special. We'll revisit these data later on. **Either way, you should continue your analysis for now using just the subset of the data with few or no missing values.**"
   ]
  },
  {
   "cell_type": "code",
   "execution_count": 27,
   "metadata": {
    "scrolled": false
   },
   "outputs": [],
   "source": [
    "#How much data is missing in each row of the dataset?\n",
    "missing_rows = clean.isnull().sum(axis=1) / clean.shape[1] * 100"
   ]
  },
  {
   "cell_type": "code",
   "execution_count": 28,
   "metadata": {},
   "outputs": [
    {
     "data": {
      "image/png": "[encoded data removed]",
      "text/plain": [
       "<Figure size 576x360 with 1 Axes>"
      ]
     },
     "metadata": {
      "needs_background": "light"
     },
     "output_type": "display_data"
    }
   ],
   "source": [
    "plt.figure(figsize=[8,5])\n",
    "plt.hist(missing_rows, bins=50)\n",
    "plt.ylabel('Frequency')\n",
    "plt.xlabel('% of Missing Values')\n",
    "plt.title('Histogram of Missing Values (Rows)');"
   ]
  },
  {
   "cell_type": "code",
   "execution_count": 29,
   "metadata": {
    "scrolled": false
   },
   "outputs": [
    {
     "data": {
      "image/png": "[encoded data removed]",
      "text/plain": [
       "<Figure size 144x576 with 1 Axes>"
      ]
     },
     "metadata": {
      "needs_background": "light"
     },
     "output_type": "display_data"
    }
   ],
   "source": [
    "#Use boxplot aka the IQR to find outlineres\n",
    "plt.figure(figsize=[2,8])\n",
    "sb.boxplot(y= missing_rows);"
   ]
  },
  {
   "cell_type": "code",
   "execution_count": 30,
   "metadata": {},
   "outputs": [],
   "source": [
    "#Find the IQR\n",
    "IQR = np.percentile(missing_rows, [25,75])\n",
    "upper_limit = IQR[1] + (IQR[1] - IQR[0])*1.5"
   ]
  },
  {
   "cell_type": "code",
   "execution_count": 31,
   "metadata": {
    "scrolled": true
   },
   "outputs": [
    {
     "data": {
      "text/plain": [
       "True"
      ]
     },
     "execution_count": 31,
     "metadata": {},
     "output_type": "execute_result"
    }
   ],
   "source": [
    "#Split it into two entries\n",
    "outliners = missing_rows[missing_rows > upper_limit]\n",
    "keep = missing_rows[missing_rows <= upper_limit]\n",
    "\n",
    "#Make sure we have all the entries\n",
    "clean.shape[0] == outliners.shape[0] + keep.shape[0]"
   ]
  },
  {
   "cell_type": "code",
   "execution_count": 32,
   "metadata": {},
   "outputs": [
    {
     "data": {
      "text/plain": [
       "(True, True)"
      ]
     },
     "execution_count": 32,
     "metadata": {},
     "output_type": "execute_result"
    }
   ],
   "source": [
    "# Write code to divide the data into two subsets based on the number of missing\n",
    "# values in each row.\n",
    "outliners_df = clean.iloc[outliners.index]\n",
    "keep_df = clean.iloc[keep.index]\n",
    "\n",
    "#Make sure we have all the entries\n",
    "keep_df.shape[0] == keep.shape[0], outliners.shape[0] == outliners.shape[0]"
   ]
  },
  {
   "cell_type": "code",
   "execution_count": 33,
   "metadata": {
    "scrolled": true
   },
   "outputs": [],
   "source": [
    "# Compare the distribution of values for at least five columns where there are\n",
    "# no or few missing values, between the two subsets.\n",
    "missing_columns = missing_columns.sort_values(ascending=True).head(24).sample(5, random_state=20)"
   ]
  },
  {
   "cell_type": "code",
   "execution_count": 34,
   "metadata": {
    "scrolled": false
   },
   "outputs": [
    {
     "data": {
      "image/png": "[encoded data removed]",
      "text/plain": [
       "<Figure size 1080x1440 with 10 Axes>"
      ]
     },
     "metadata": {
      "needs_background": "light"
     },
     "output_type": "display_data"
    }
   ],
   "source": [
    "fig, ax = plt.subplots(5,2, figsize=[15,20])\n",
    "for i in range(len(missing_columns)):\n",
    "    sb.countplot(keep_df[missing_columns.index[i]], ax=ax[i,0])\n",
    "    sb.countplot(outliners_df[missing_columns.index[i]], ax=ax[i,1])\n",
    "\n",
    "    ax[0,0].set_title('Data with Few Missing Row Values', fontweight=\"bold\")\n",
    "    ax[0,1].set_title('Data with Many Missing Row Values', fontweight=\"bold\")\n",
    "\n",
    "fig.subplots_adjust(hspace=.3);"
   ]
  },
  {
   "cell_type": "markdown",
   "metadata": {},
   "source": [
    "#### Discussion 1.1.3: Assess Missing Data in Each Row\n",
    "\n",
    "We can see there is a noticeable difference in the distribution between data with a few and lots of missing row values.  Generally speaking, distribution of the former is relatively even, while the latter is often dictated by a single value."
   ]
  },
  {
   "cell_type": "markdown",
   "metadata": {},
   "source": [
    "### Step 1.2: Select and Re-Encode Features\n",
    "\n",
    "Checking for missing data isn't the only way in which you can prepare a dataset for analysis. Since the unsupervised learning techniques to be used will only work on data that is encoded numerically, you need to make a few encoding changes or additional assumptions to be able to make progress. In addition, while almost all of the values in the dataset are encoded using numbers, not all of them represent numeric values. Check the third column of the feature summary (`feat_info`) for a summary of types of measurement.\n",
    "- For numeric and interval data, these features can be kept without changes.\n",
    "- Most of the variables in the dataset are ordinal in nature. While ordinal values may technically be non-linear in spacing, make the simplifying assumption that the ordinal variables can be treated as being interval in nature (that is, kept without any changes).\n",
    "- Special handling may be necessary for the remaining two variable types: categorical, and 'mixed'.\n",
    "\n",
    "In the first two parts of this sub-step, you will perform an investigation of the categorical and mixed-type features and make a decision on each of them, whether you will keep, drop, or re-encode each. Then, in the last part, you will create a new data frame with only the selected and engineered columns.\n",
    "\n",
    "Data wrangling is often the trickiest part of the data analysis process, and there's a lot of it to be done here. But stick with it: once you're done with this step, you'll be ready to get to the machine learning parts of the project!"
   ]
  },
  {
   "cell_type": "code",
   "execution_count": 35,
   "metadata": {},
   "outputs": [
    {
     "data": {
      "text/plain": [
       "Index(['TITEL_KZ', 'AGER_TYP', 'KK_KUNDENTYP', 'KBA05_BAUMAX', 'GEBURTSJAHR',\n",
       "       'ALTER_HH'],\n",
       "      dtype='object')"
      ]
     },
     "execution_count": 35,
     "metadata": {},
     "output_type": "execute_result"
    }
   ],
   "source": [
    "drop"
   ]
  },
  {
   "cell_type": "code",
   "execution_count": 36,
   "metadata": {
    "scrolled": true
   },
   "outputs": [
    {
     "data": {
      "text/plain": [
       "ordinal        49\n",
       "categorical    21\n",
       "numeric         7\n",
       "mixed           7\n",
       "interval        1\n",
       "Name: type, dtype: int64"
      ]
     },
     "execution_count": 36,
     "metadata": {},
     "output_type": "execute_result"
    }
   ],
   "source": [
    "# How many features are there of each data type?\n",
    "feat_info.type.value_counts()"
   ]
  },
  {
   "cell_type": "code",
   "execution_count": 37,
   "metadata": {
    "scrolled": true
   },
   "outputs": [
    {
     "data": {
      "text/html": [
       "<div>\n",
       "<style scoped>\n",
       "    .dataframe tbody tr th:only-of-type {\n",
       "        vertical-align: middle;\n",
       "    }\n",
       "\n",
       "    .dataframe tbody tr th {\n",
       "        vertical-align: top;\n",
       "    }\n",
       "\n",
       "    .dataframe thead th {\n",
       "        text-align: right;\n",
       "    }\n",
       "</style>\n",
       "<table border=\"1\" class=\"dataframe\">\n",
       "  <thead>\n",
       "    <tr style=\"text-align: right;\">\n",
       "      <th></th>\n",
       "      <th>attribute</th>\n",
       "      <th>information_level</th>\n",
       "      <th>type</th>\n",
       "      <th>missing_or_unknown</th>\n",
       "    </tr>\n",
       "  </thead>\n",
       "  <tbody>\n",
       "    <tr>\n",
       "      <td>0</td>\n",
       "      <td>AGER_TYP</td>\n",
       "      <td>person</td>\n",
       "      <td>categorical</td>\n",
       "      <td>[-1,0]</td>\n",
       "    </tr>\n",
       "    <tr>\n",
       "      <td>2</td>\n",
       "      <td>ANREDE_KZ</td>\n",
       "      <td>person</td>\n",
       "      <td>categorical</td>\n",
       "      <td>[-1,0]</td>\n",
       "    </tr>\n",
       "    <tr>\n",
       "      <td>3</td>\n",
       "      <td>CJT_GESAMTTYP</td>\n",
       "      <td>person</td>\n",
       "      <td>categorical</td>\n",
       "      <td>[0]</td>\n",
       "    </tr>\n",
       "    <tr>\n",
       "      <td>10</td>\n",
       "      <td>FINANZTYP</td>\n",
       "      <td>person</td>\n",
       "      <td>categorical</td>\n",
       "      <td>[-1]</td>\n",
       "    </tr>\n",
       "    <tr>\n",
       "      <td>12</td>\n",
       "      <td>GFK_URLAUBERTYP</td>\n",
       "      <td>person</td>\n",
       "      <td>categorical</td>\n",
       "      <td>[]</td>\n",
       "    </tr>\n",
       "    <tr>\n",
       "      <td>13</td>\n",
       "      <td>GREEN_AVANTGARDE</td>\n",
       "      <td>person</td>\n",
       "      <td>categorical</td>\n",
       "      <td>[]</td>\n",
       "    </tr>\n",
       "    <tr>\n",
       "      <td>15</td>\n",
       "      <td>LP_LEBENSPHASE_FEIN</td>\n",
       "      <td>person</td>\n",
       "      <td>mixed</td>\n",
       "      <td>[0]</td>\n",
       "    </tr>\n",
       "    <tr>\n",
       "      <td>16</td>\n",
       "      <td>LP_LEBENSPHASE_GROB</td>\n",
       "      <td>person</td>\n",
       "      <td>mixed</td>\n",
       "      <td>[0]</td>\n",
       "    </tr>\n",
       "    <tr>\n",
       "      <td>17</td>\n",
       "      <td>LP_FAMILIE_FEIN</td>\n",
       "      <td>person</td>\n",
       "      <td>categorical</td>\n",
       "      <td>[0]</td>\n",
       "    </tr>\n",
       "    <tr>\n",
       "      <td>18</td>\n",
       "      <td>LP_FAMILIE_GROB</td>\n",
       "      <td>person</td>\n",
       "      <td>categorical</td>\n",
       "      <td>[0]</td>\n",
       "    </tr>\n",
       "    <tr>\n",
       "      <td>19</td>\n",
       "      <td>LP_STATUS_FEIN</td>\n",
       "      <td>person</td>\n",
       "      <td>categorical</td>\n",
       "      <td>[0]</td>\n",
       "    </tr>\n",
       "    <tr>\n",
       "      <td>20</td>\n",
       "      <td>LP_STATUS_GROB</td>\n",
       "      <td>person</td>\n",
       "      <td>categorical</td>\n",
       "      <td>[0]</td>\n",
       "    </tr>\n",
       "    <tr>\n",
       "      <td>21</td>\n",
       "      <td>NATIONALITAET_KZ</td>\n",
       "      <td>person</td>\n",
       "      <td>categorical</td>\n",
       "      <td>[-1,0]</td>\n",
       "    </tr>\n",
       "    <tr>\n",
       "      <td>22</td>\n",
       "      <td>PRAEGENDE_JUGENDJAHRE</td>\n",
       "      <td>person</td>\n",
       "      <td>mixed</td>\n",
       "      <td>[-1,0]</td>\n",
       "    </tr>\n",
       "    <tr>\n",
       "      <td>38</td>\n",
       "      <td>SHOPPER_TYP</td>\n",
       "      <td>person</td>\n",
       "      <td>categorical</td>\n",
       "      <td>[-1]</td>\n",
       "    </tr>\n",
       "    <tr>\n",
       "      <td>39</td>\n",
       "      <td>SOHO_KZ</td>\n",
       "      <td>person</td>\n",
       "      <td>categorical</td>\n",
       "      <td>[-1]</td>\n",
       "    </tr>\n",
       "    <tr>\n",
       "      <td>40</td>\n",
       "      <td>TITEL_KZ</td>\n",
       "      <td>person</td>\n",
       "      <td>categorical</td>\n",
       "      <td>[-1,0]</td>\n",
       "    </tr>\n",
       "    <tr>\n",
       "      <td>41</td>\n",
       "      <td>VERS_TYP</td>\n",
       "      <td>person</td>\n",
       "      <td>categorical</td>\n",
       "      <td>[-1]</td>\n",
       "    </tr>\n",
       "    <tr>\n",
       "      <td>42</td>\n",
       "      <td>ZABEOTYP</td>\n",
       "      <td>person</td>\n",
       "      <td>categorical</td>\n",
       "      <td>[-1,9]</td>\n",
       "    </tr>\n",
       "    <tr>\n",
       "      <td>47</td>\n",
       "      <td>KK_KUNDENTYP</td>\n",
       "      <td>household</td>\n",
       "      <td>categorical</td>\n",
       "      <td>[-1]</td>\n",
       "    </tr>\n",
       "    <tr>\n",
       "      <td>52</td>\n",
       "      <td>GEBAEUDETYP</td>\n",
       "      <td>building</td>\n",
       "      <td>categorical</td>\n",
       "      <td>[-1,0]</td>\n",
       "    </tr>\n",
       "    <tr>\n",
       "      <td>55</td>\n",
       "      <td>OST_WEST_KZ</td>\n",
       "      <td>building</td>\n",
       "      <td>categorical</td>\n",
       "      <td>[-1]</td>\n",
       "    </tr>\n",
       "    <tr>\n",
       "      <td>56</td>\n",
       "      <td>WOHNLAGE</td>\n",
       "      <td>building</td>\n",
       "      <td>mixed</td>\n",
       "      <td>[-1]</td>\n",
       "    </tr>\n",
       "    <tr>\n",
       "      <td>57</td>\n",
       "      <td>CAMEO_DEUG_2015</td>\n",
       "      <td>microcell_rr4</td>\n",
       "      <td>categorical</td>\n",
       "      <td>[-1,X]</td>\n",
       "    </tr>\n",
       "    <tr>\n",
       "      <td>58</td>\n",
       "      <td>CAMEO_DEU_2015</td>\n",
       "      <td>microcell_rr4</td>\n",
       "      <td>categorical</td>\n",
       "      <td>[XX]</td>\n",
       "    </tr>\n",
       "    <tr>\n",
       "      <td>59</td>\n",
       "      <td>CAMEO_INTL_2015</td>\n",
       "      <td>microcell_rr4</td>\n",
       "      <td>mixed</td>\n",
       "      <td>[-1,XX]</td>\n",
       "    </tr>\n",
       "    <tr>\n",
       "      <td>64</td>\n",
       "      <td>KBA05_BAUMAX</td>\n",
       "      <td>microcell_rr3</td>\n",
       "      <td>mixed</td>\n",
       "      <td>[-1,0]</td>\n",
       "    </tr>\n",
       "    <tr>\n",
       "      <td>79</td>\n",
       "      <td>PLZ8_BAUMAX</td>\n",
       "      <td>macrocell_plz8</td>\n",
       "      <td>mixed</td>\n",
       "      <td>[-1,0]</td>\n",
       "    </tr>\n",
       "  </tbody>\n",
       "</table>\n",
       "</div>"
      ],
      "text/plain": [
       "                attribute information_level         type missing_or_unknown\n",
       "0                AGER_TYP            person  categorical             [-1,0]\n",
       "2               ANREDE_KZ            person  categorical             [-1,0]\n",
       "3           CJT_GESAMTTYP            person  categorical                [0]\n",
       "10              FINANZTYP            person  categorical               [-1]\n",
       "12        GFK_URLAUBERTYP            person  categorical                 []\n",
       "13       GREEN_AVANTGARDE            person  categorical                 []\n",
       "15    LP_LEBENSPHASE_FEIN            person        mixed                [0]\n",
       "16    LP_LEBENSPHASE_GROB            person        mixed                [0]\n",
       "17        LP_FAMILIE_FEIN            person  categorical                [0]\n",
       "18        LP_FAMILIE_GROB            person  categorical                [0]\n",
       "19         LP_STATUS_FEIN            person  categorical                [0]\n",
       "20         LP_STATUS_GROB            person  categorical                [0]\n",
       "21       NATIONALITAET_KZ            person  categorical             [-1,0]\n",
       "22  PRAEGENDE_JUGENDJAHRE            person        mixed             [-1,0]\n",
       "38            SHOPPER_TYP            person  categorical               [-1]\n",
       "39                SOHO_KZ            person  categorical               [-1]\n",
       "40               TITEL_KZ            person  categorical             [-1,0]\n",
       "41               VERS_TYP            person  categorical               [-1]\n",
       "42               ZABEOTYP            person  categorical             [-1,9]\n",
       "47           KK_KUNDENTYP         household  categorical               [-1]\n",
       "52            GEBAEUDETYP          building  categorical             [-1,0]\n",
       "55            OST_WEST_KZ          building  categorical               [-1]\n",
       "56               WOHNLAGE          building        mixed               [-1]\n",
       "57        CAMEO_DEUG_2015     microcell_rr4  categorical             [-1,X]\n",
       "58         CAMEO_DEU_2015     microcell_rr4  categorical               [XX]\n",
       "59        CAMEO_INTL_2015     microcell_rr4        mixed            [-1,XX]\n",
       "64           KBA05_BAUMAX     microcell_rr3        mixed             [-1,0]\n",
       "79            PLZ8_BAUMAX    macrocell_plz8        mixed             [-1,0]"
      ]
     },
     "execution_count": 37,
     "metadata": {},
     "output_type": "execute_result"
    }
   ],
   "source": [
    "feat_info[feat_info['type'].isin(['categorical','mixed'])]"
   ]
  },
  {
   "cell_type": "markdown",
   "metadata": {},
   "source": [
    "#### Step 1.2.1: Re-Encode Categorical Features\n",
    "\n",
    "For categorical data, you would ordinarily need to encode the levels as dummy variables. Depending on the number of categories, perform one of the following:\n",
    "- For binary (two-level) categoricals that take numeric values, you can keep them without needing to do anything.\n",
    "- There is one binary variable that takes on non-numeric values. For this one, you need to re-encode the values as numbers or create a dummy variable.\n",
    "- For multi-level categoricals (three or more values), you can choose to encode the values using multiple dummy variables (e.g. via [OneHotEncoder](http://scikit-learn.org/stable/modules/generated/sklearn.preprocessing.OneHotEncoder.html)), or (to keep things straightforward) just drop them from the analysis. As always, document your choices in the Discussion section."
   ]
  },
  {
   "cell_type": "code",
   "execution_count": 38,
   "metadata": {
    "scrolled": true
   },
   "outputs": [
    {
     "name": "stdout",
     "output_type": "stream",
     "text": [
      "AGER_TYP has already been removed from the dataset\n",
      "\n",
      "ANREDE_KZ has 2 unique values.  They are: \n",
      "<IntegerArray>\n",
      "[2, 1]\n",
      "Length: 2, dtype: Int64\n",
      "\n",
      "CJT_GESAMTTYP has 6 unique values.  They are: \n",
      "<IntegerArray>\n",
      "[5, 3, 2, 4, 1, 6]\n",
      "Length: 6, dtype: Int64\n",
      "\n",
      "FINANZTYP has 6 unique values.  They are: \n",
      "<IntegerArray>\n",
      "[1, 6, 5, 2, 4, 3]\n",
      "Length: 6, dtype: Int64\n",
      "\n",
      "GFK_URLAUBERTYP has 12 unique values.  They are: \n",
      "<IntegerArray>\n",
      "[10, 1, 5, 12, 9, 3, 8, 11, 4, 7, 2, 6]\n",
      "Length: 12, dtype: Int64\n",
      "\n",
      "GREEN_AVANTGARDE has 2 unique values.  They are: \n",
      "[0 1]\n",
      "\n",
      "LP_FAMILIE_FEIN has 11 unique values.  They are: \n",
      "<IntegerArray>\n",
      "[5, 1, NaN, 10, 2, 7, 11, 8, 4, 6, 9, 3]\n",
      "Length: 12, dtype: Int64\n",
      "\n",
      "LP_FAMILIE_GROB has 5 unique values.  They are: \n",
      "<IntegerArray>\n",
      "[3, 1, NaN, 5, 2, 4]\n",
      "Length: 6, dtype: Int64\n",
      "\n",
      "LP_STATUS_FEIN has 10 unique values.  They are: \n",
      "<IntegerArray>\n",
      "[2, 3, 9, 4, 1, 10, 8, 5, 6, 7]\n",
      "Length: 10, dtype: Int64\n",
      "\n",
      "LP_STATUS_GROB has 5 unique values.  They are: \n",
      "<IntegerArray>\n",
      "[1, 2, 4, 5, 3]\n",
      "Length: 5, dtype: Int64\n",
      "\n",
      "NATIONALITAET_KZ has 3 unique values.  They are: \n",
      "<IntegerArray>\n",
      "[1, 3, 2, NaN]\n",
      "Length: 4, dtype: Int64\n",
      "\n",
      "SHOPPER_TYP has 4 unique values.  They are: \n",
      "<IntegerArray>\n",
      "[3, 2, 1, 0, NaN]\n",
      "Length: 5, dtype: Int64\n",
      "\n",
      "SOHO_KZ has 2 unique values.  They are: \n",
      "<IntegerArray>\n",
      "[1, 0]\n",
      "Length: 2, dtype: Int64\n",
      "\n",
      "TITEL_KZ has already been removed from the dataset\n",
      "\n",
      "VERS_TYP has 2 unique values.  They are: \n",
      "<IntegerArray>\n",
      "[2, 1, NaN]\n",
      "Length: 3, dtype: Int64\n",
      "\n",
      "ZABEOTYP has 6 unique values.  They are: \n",
      "<IntegerArray>\n",
      "[5, 3, 4, 1, 6, 2]\n",
      "Length: 6, dtype: Int64\n",
      "\n",
      "KK_KUNDENTYP has already been removed from the dataset\n",
      "\n",
      "GEBAEUDETYP has 7 unique values.  They are: \n",
      "<IntegerArray>\n",
      "[8, 1, 3, 2, 6, 4, 5]\n",
      "Length: 7, dtype: Int64\n",
      "\n",
      "OST_WEST_KZ has 2 unique values.  They are: \n",
      "['W' 'O']\n",
      "\n",
      "CAMEO_DEUG_2015 has 9 unique values.  They are: \n",
      "<IntegerArray>\n",
      "[8, 4, 2, 6, 1, 9, 7, 5, 3, NaN]\n",
      "Length: 10, dtype: Int64\n",
      "\n",
      "CAMEO_DEU_2015 has 44 unique values.  They are: \n",
      "['8A' '4C' '2A' '6B' '8C' '4A' '2D' '1A' '1E' '9D' '7A' '5D' '9E' '5C'\n",
      " '9B' '1B' '8B' '3D' nan '4E' '4B' '3C' '5A' '7B' '9A' '6D' '6E' '2C' '7C'\n",
      " '9C' '7D' '5E' '1D' '8D' '6C' '6A' '5B' '4D' '3A' '2B' '7E' '3B' '6F'\n",
      " '5F' '1C']\n",
      "\n"
     ]
    }
   ],
   "source": [
    "# Assess categorical variables: which are binary, which are multi-level, and\n",
    "# which one needs to be re-encoded?\n",
    "categorical = feat_info[feat_info['type'].isin(['categorical'])]\n",
    "\n",
    "#Overview\n",
    "for i in categorical.attribute:\n",
    "    try:\n",
    "        print('{} has {} unique values.  They are: \\n{}\\n'.format(i, keep_df[i].nunique(), keep_df[i].unique()))\n",
    "    except:\n",
    "        print('{} has already been removed from the dataset\\n'.format(i))"
   ]
  },
  {
   "cell_type": "code",
   "execution_count": 39,
   "metadata": {
    "scrolled": true
   },
   "outputs": [
    {
     "name": "stdout",
     "output_type": "stream",
     "text": [
      "AGER_TYP has already been removed from the dataset\n",
      "TITEL_KZ has already been removed from the dataset\n",
      "KK_KUNDENTYP has already been removed from the dataset\n",
      "OST_WEST_KZ requires further investigation\n"
     ]
    }
   ],
   "source": [
    "binary= []\n",
    "multiple= []\n",
    "for i in categorical.attribute:\n",
    "    try:\n",
    "        if keep_df[i].nunique() <= 2 and keep_df[i].dtype !='object':\n",
    "            binary.append(i)\n",
    "        elif keep_df[i].nunique() > 2:\n",
    "            multiple.append(i)\n",
    "        else:\n",
    "            print('{} requires further investigation'.format(i))\n",
    "    except:\n",
    "        print('{} has already been removed from the dataset'.format(i))"
   ]
  },
  {
   "cell_type": "markdown",
   "metadata": {},
   "source": [
    "- 'binary' contains a list of features  that we can keep them without needing to do anything\n",
    "- 'multiple' contains a list of features that require re-encoding with the one-hot encoder\n",
    "- *OST_WEST_KZ* needs to be converted to numeric values"
   ]
  },
  {
   "cell_type": "code",
   "execution_count": 40,
   "metadata": {
    "scrolled": true
   },
   "outputs": [],
   "source": [
    "#Transform OST_WEST_KZ to binary (numeric)\n",
    "keep_df['OST_WEST_KZ'] = keep_df['OST_WEST_KZ'].map({'W':0, 'O':1})"
   ]
  },
  {
   "cell_type": "code",
   "execution_count": 41,
   "metadata": {
    "scrolled": false
   },
   "outputs": [
    {
     "data": {
      "text/plain": [
       "0    587514\n",
       "1    159595\n",
       "Name: OST_WEST_KZ, dtype: int64"
      ]
     },
     "execution_count": 41,
     "metadata": {},
     "output_type": "execute_result"
    }
   ],
   "source": [
    "#Spot check\n",
    "keep_df['OST_WEST_KZ'].value_counts()"
   ]
  },
  {
   "cell_type": "code",
   "execution_count": 42,
   "metadata": {},
   "outputs": [],
   "source": [
    "# Re-encode categorical variable(s) to be kept in the analysis.\n",
    "encoded = pd.get_dummies(keep_df, columns=multiple)"
   ]
  },
  {
   "cell_type": "markdown",
   "metadata": {},
   "source": [
    "#### Discussion 1.2.1: Re-Encode Categorical Features\n",
    "\n",
    "In order to assess which features required re-encoding, we first split our categorical columns into 2 groups: binary (2 values) and multiple (3 or more values).  Within the binary group, *OST_WEST_KZ* contained non-numeric values and had to be converted to numbers; 'W' was converted to 0 and 'O' was converted to 1.  All the multiple-level features required One Hot Encoding, which was accomplished by using pd.get_dummies.  No columns were dropped in this wrangling process.  "
   ]
  },
  {
   "cell_type": "markdown",
   "metadata": {},
   "source": [
    "#### Step 1.2.2: Engineer Mixed-Type Features\n",
    "\n",
    "There are a handful of features that are marked as \"mixed\" in the feature summary that require special treatment in order to be included in the analysis. There are two in particular that deserve attention; the handling of the rest are up to your own choices:\n",
    "- \"PRAEGENDE_JUGENDJAHRE\" combines information on three dimensions: generation by decade, movement (mainstream vs. avantgarde), and nation (east vs. west). While there aren't enough levels to disentangle east from west, you should create two new variables to capture the other two dimensions: an interval-type variable for decade, and a binary variable for movement.\n",
    "- \"CAMEO_INTL_2015\" combines information on two axes: wealth and life stage. Break up the two-digit codes by their 'tens'-place and 'ones'-place digits into two new ordinal variables (which, for the purposes of this project, is equivalent to just treating them as their raw numeric values).\n",
    "- If you decide to keep or engineer new features around the other mixed-type features, make sure you note your steps in the Discussion section.\n",
    "\n",
    "Be sure to check `Data_Dictionary.md` for the details needed to finish these tasks."
   ]
  },
  {
   "cell_type": "code",
   "execution_count": 43,
   "metadata": {},
   "outputs": [
    {
     "data": {
      "text/html": [
       "<div>\n",
       "<style scoped>\n",
       "    .dataframe tbody tr th:only-of-type {\n",
       "        vertical-align: middle;\n",
       "    }\n",
       "\n",
       "    .dataframe tbody tr th {\n",
       "        vertical-align: top;\n",
       "    }\n",
       "\n",
       "    .dataframe thead th {\n",
       "        text-align: right;\n",
       "    }\n",
       "</style>\n",
       "<table border=\"1\" class=\"dataframe\">\n",
       "  <thead>\n",
       "    <tr style=\"text-align: right;\">\n",
       "      <th></th>\n",
       "      <th>attribute</th>\n",
       "      <th>information_level</th>\n",
       "      <th>type</th>\n",
       "      <th>missing_or_unknown</th>\n",
       "    </tr>\n",
       "  </thead>\n",
       "  <tbody>\n",
       "    <tr>\n",
       "      <td>15</td>\n",
       "      <td>LP_LEBENSPHASE_FEIN</td>\n",
       "      <td>person</td>\n",
       "      <td>mixed</td>\n",
       "      <td>[0]</td>\n",
       "    </tr>\n",
       "    <tr>\n",
       "      <td>16</td>\n",
       "      <td>LP_LEBENSPHASE_GROB</td>\n",
       "      <td>person</td>\n",
       "      <td>mixed</td>\n",
       "      <td>[0]</td>\n",
       "    </tr>\n",
       "    <tr>\n",
       "      <td>22</td>\n",
       "      <td>PRAEGENDE_JUGENDJAHRE</td>\n",
       "      <td>person</td>\n",
       "      <td>mixed</td>\n",
       "      <td>[-1,0]</td>\n",
       "    </tr>\n",
       "    <tr>\n",
       "      <td>56</td>\n",
       "      <td>WOHNLAGE</td>\n",
       "      <td>building</td>\n",
       "      <td>mixed</td>\n",
       "      <td>[-1]</td>\n",
       "    </tr>\n",
       "    <tr>\n",
       "      <td>59</td>\n",
       "      <td>CAMEO_INTL_2015</td>\n",
       "      <td>microcell_rr4</td>\n",
       "      <td>mixed</td>\n",
       "      <td>[-1,XX]</td>\n",
       "    </tr>\n",
       "    <tr>\n",
       "      <td>64</td>\n",
       "      <td>KBA05_BAUMAX</td>\n",
       "      <td>microcell_rr3</td>\n",
       "      <td>mixed</td>\n",
       "      <td>[-1,0]</td>\n",
       "    </tr>\n",
       "    <tr>\n",
       "      <td>79</td>\n",
       "      <td>PLZ8_BAUMAX</td>\n",
       "      <td>macrocell_plz8</td>\n",
       "      <td>mixed</td>\n",
       "      <td>[-1,0]</td>\n",
       "    </tr>\n",
       "  </tbody>\n",
       "</table>\n",
       "</div>"
      ],
      "text/plain": [
       "                attribute information_level   type missing_or_unknown\n",
       "15    LP_LEBENSPHASE_FEIN            person  mixed                [0]\n",
       "16    LP_LEBENSPHASE_GROB            person  mixed                [0]\n",
       "22  PRAEGENDE_JUGENDJAHRE            person  mixed             [-1,0]\n",
       "56               WOHNLAGE          building  mixed               [-1]\n",
       "59        CAMEO_INTL_2015     microcell_rr4  mixed            [-1,XX]\n",
       "64           KBA05_BAUMAX     microcell_rr3  mixed             [-1,0]\n",
       "79            PLZ8_BAUMAX    macrocell_plz8  mixed             [-1,0]"
      ]
     },
     "execution_count": 43,
     "metadata": {},
     "output_type": "execute_result"
    }
   ],
   "source": [
    "#List of 'mixed' features\n",
    "mixed = feat_info[feat_info['type'].isin(['mixed'])]\n",
    "mixed"
   ]
  },
  {
   "cell_type": "code",
   "execution_count": 44,
   "metadata": {},
   "outputs": [],
   "source": [
    "#New column for PRAEGENDE_JUGENDJAHRE's decade\n",
    "decade_map = {1:[1,2], 2:[3,4], 3:[5,6,7], 4:[8,9], 5:[10,11,12,13], 6:[14,15]}\n",
    "\n",
    "def decade(x):\n",
    "    for i in decade_map:\n",
    "        if x in decade_map[i]:\n",
    "            return i\n",
    "        elif x is np.nan:\n",
    "            return np.nan\n",
    "encoded['PRAEGENDE_JUGENDJAHRE_dec'] = encoded.PRAEGENDE_JUGENDJAHRE.apply(decade)\n",
    "encoded['PRAEGENDE_JUGENDJAHRE_dec'] = encoded['PRAEGENDE_JUGENDJAHRE_dec'].astype('Int64')"
   ]
  },
  {
   "cell_type": "code",
   "execution_count": 45,
   "metadata": {},
   "outputs": [],
   "source": [
    "#New column for PRAEGENDE_JUGENDJAHRE's movement\n",
    "mainstream_map = [1,3,5,8,10,12,14]\n",
    "\n",
    "def movement(x):\n",
    "        if x in mainstream_map:\n",
    "            return 0\n",
    "        elif x is np.nan:\n",
    "            return np.nan\n",
    "        else:\n",
    "            return 1\n",
    "    \n",
    "encoded['PRAEGENDE_JUGENDJAHRE_mov'] = encoded.PRAEGENDE_JUGENDJAHRE.apply(movement)\n",
    "encoded['PRAEGENDE_JUGENDJAHRE_mov'] = encoded['PRAEGENDE_JUGENDJAHRE_mov'].astype('Int64')"
   ]
  },
  {
   "cell_type": "code",
   "execution_count": 46,
   "metadata": {},
   "outputs": [],
   "source": [
    "#New column for CAMEO_INTL_2015's wealth\n",
    "encoded['CAMEO_INTL_2015_wealth'] = encoded['CAMEO_INTL_2015']//10\n",
    "\n",
    "#new column for CAMEO_INTL_2015's life stage\n",
    "encoded['CAMEO_INTL_2015_life'] = encoded['CAMEO_INTL_2015']%10"
   ]
  },
  {
   "cell_type": "markdown",
   "metadata": {},
   "source": [
    "Since we have already re-encoded PRAEGENDE_JUGENDJAHRE and CAMEO_INTL_2015, we can now remove all the mixed-type features for our analysis."
   ]
  },
  {
   "cell_type": "code",
   "execution_count": 47,
   "metadata": {
    "scrolled": true
   },
   "outputs": [
    {
     "name": "stdout",
     "output_type": "stream",
     "text": [
      "\"['KBA05_BAUMAX'] not found in axis\"\n"
     ]
    }
   ],
   "source": [
    "#Drop columns\n",
    "try:\n",
    "    encoded.drop(mixed.attribute.values, axis=1, inplace=True)\n",
    "    \n",
    "except Exception as e:\n",
    "    print(e)"
   ]
  },
  {
   "cell_type": "markdown",
   "metadata": {},
   "source": [
    "We should exclude *KBA05_BAUMAX* from this list as it was already removed by us previously"
   ]
  },
  {
   "cell_type": "code",
   "execution_count": 48,
   "metadata": {},
   "outputs": [
    {
     "data": {
      "text/plain": [
       "['LP_LEBENSPHASE_FEIN',\n",
       " 'LP_LEBENSPHASE_GROB',\n",
       " 'PRAEGENDE_JUGENDJAHRE',\n",
       " 'WOHNLAGE',\n",
       " 'CAMEO_INTL_2015',\n",
       " 'PLZ8_BAUMAX']"
      ]
     },
     "execution_count": 48,
     "metadata": {},
     "output_type": "execute_result"
    }
   ],
   "source": [
    "#Remove KBA05_BAUMAX from list\n",
    "mixed = mixed.attribute.values.tolist()\n",
    "mixed.remove('KBA05_BAUMAX')\n",
    "mixed"
   ]
  },
  {
   "cell_type": "code",
   "execution_count": 49,
   "metadata": {},
   "outputs": [],
   "source": [
    "encoded.drop(mixed, axis=1, inplace=True)"
   ]
  },
  {
   "cell_type": "markdown",
   "metadata": {},
   "source": [
    "#### Discussion 1.2.2: Engineer Mixed-Type Features\n",
    "\n",
    "Out of the 7 mixed-type features, PRAEGENDE_JUGENDJAHRE and CAMEO_INTL_2015 were critical to our analysis and had their values broken down to provide more granularity. We had to create two new columns for the former, one to capture its decade and the other one for its movement. Both of which were accomplished by mapping their values to a pre-determined list/dictionary. As for the latter, we had to disentangle the tens’ place for wealth and the ones’ place for life stage. This was done by dividing the column by 10.\n",
    "\n",
    "Note that the rest of the mixed-type features were excluded from this analysis."
   ]
  },
  {
   "cell_type": "markdown",
   "metadata": {},
   "source": [
    "#### Step 1.2.3: Complete Feature Selection\n",
    "\n",
    "In order to finish this step up, you need to make sure that your data frame now only has the columns that you want to keep. To summarize, the dataframe should consist of the following:\n",
    "- All numeric, interval, and ordinal type columns from the original dataset.\n",
    "- Binary categorical features (all numerically-encoded).\n",
    "- Engineered features from other multi-level categorical features and mixed features.\n",
    "\n",
    "Make sure that for any new columns that you have engineered, that you've excluded the original columns from the final dataset. Otherwise, their values will interfere with the analysis later on the project. For example, you should not keep \"PRAEGENDE_JUGENDJAHRE\", since its values won't be useful for the algorithm: only the values derived from it in the engineered features you created should be retained. As a reminder, your data should only be from **the subset with few or no missing values**."
   ]
  },
  {
   "cell_type": "code",
   "execution_count": 50,
   "metadata": {},
   "outputs": [
    {
     "data": {
      "text/plain": [
       "False"
      ]
     },
     "execution_count": 50,
     "metadata": {},
     "output_type": "execute_result"
    }
   ],
   "source": [
    "#See if any of the multi-level categorical columns are there\n",
    "pd.Series(multiple).isin(encoded.columns).all()"
   ]
  },
  {
   "cell_type": "code",
   "execution_count": 51,
   "metadata": {},
   "outputs": [
    {
     "data": {
      "text/plain": [
       "False"
      ]
     },
     "execution_count": 51,
     "metadata": {},
     "output_type": "execute_result"
    }
   ],
   "source": [
    "#See if any of the mixed columns are there\n",
    "pd.Series(mixed).isin(encoded.columns).all()"
   ]
  },
  {
   "cell_type": "code",
   "execution_count": 52,
   "metadata": {},
   "outputs": [
    {
     "name": "stdout",
     "output_type": "stream",
     "text": [
      "<class 'pandas.core.frame.DataFrame'>\n",
      "Int64Index: 747109 entries, 1 to 891220\n",
      "Columns: 192 entries, ALTERSKATEGORIE_GROB to CAMEO_INTL_2015_life\n",
      "dtypes: Int64(62), int64(2), uint8(128)\n",
      "memory usage: 525.9 MB\n"
     ]
    }
   ],
   "source": [
    "encoded.info()"
   ]
  },
  {
   "cell_type": "markdown",
   "metadata": {},
   "source": [
    "### Step 1.3: Create a Cleaning Function\n",
    "\n",
    "Even though you've finished cleaning up the general population demographics data, it's important to look ahead to the future and realize that you'll need to perform the same cleaning steps on the customer demographics data. In this substep, complete the function below to execute the main feature selection, encoding, and re-engineering steps you performed above. Then, when it comes to looking at the customer data in Step 3, you can just run this function on that DataFrame to get the trimmed dataset in a single step."
   ]
  },
  {
   "cell_type": "code",
   "execution_count": 53,
   "metadata": {},
   "outputs": [],
   "source": [
    "def clean_data(df, reference):\n",
    "    \"\"\"\n",
    "    Perform feature trimming, re-encoding, and engineering for demographics\n",
    "    data\n",
    "    \n",
    "    INPUT: Demographics DataFrame\n",
    "    OUTPUT: Trimmed and cleaned demographics DataFrame\n",
    "    \"\"\"\n",
    "    \n",
    "    #Put in code here to execute all main cleaning steps:\n",
    "    \n",
    "    #Convert missing value codes into NaNs, ...\n",
    "    df1 = df.copy()\n",
    "    missing = reference.copy()    \n",
    "    \n",
    "    #Remove entries that do not have any missing/unknown values\n",
    "    missing = missing.query('missing_or_unknown != \"[]\"')\n",
    "    #Remove irrelevant columns atm\n",
    "    missing.drop(['information_level','type'], axis=1, inplace=True)\n",
    "\n",
    "    #Set index\n",
    "    missing.set_index('attribute', inplace=True)\n",
    "\n",
    "    #Get rid of the brackets and split entries with multiple missing values\n",
    "    missing.missing_or_unknown = missing.missing_or_unknown.str.replace(r'[\\[\\]]','').str.split(',')\n",
    "    \n",
    "    for index, value in missing.itertuples():\n",
    "        for i in value:\n",
    "            #For integers\n",
    "            try:\n",
    "                df1.loc[df1[index]== int(i), index] = np.nan\n",
    "                df1[index] = df1[index].astype('Int64')\n",
    "            #For non intergers\n",
    "            except:\n",
    "                df1.loc[df1[index]== i, index] = np.nan\n",
    "    \n",
    "    #Convert all the float columns to Int\n",
    "    convert = list(df1.select_dtypes(['float64']).columns)\n",
    "    for i in convert:\n",
    "        df1[i] = df1[i].astype('Int64')\n",
    "        \n",
    "    df1['CAMEO_DEUG_2015'] = df1.CAMEO_DEUG_2015.astype('float').astype('Int64')\n",
    "    df1['CAMEO_INTL_2015'] = df1.CAMEO_INTL_2015.astype('float').astype('Int64')\n",
    "    \n",
    "    #Remove selected columns\n",
    "    drop = ['TITEL_KZ', 'AGER_TYP', 'KK_KUNDENTYP', 'KBA05_BAUMAX', 'GEBURTSJAHR','ALTER_HH']\n",
    "    df1.drop(drop, axis=1, inplace=True)\n",
    "    \n",
    "    #Remove selected rows\n",
    "    missing_rows = df1.isnull().sum(axis=1) / df1.shape[1] * 100\n",
    "    \n",
    "    IQR = np.percentile(missing_rows, [25,75])\n",
    "    upper_limit = IQR[1] + (IQR[1] - IQR[0])*1.5\n",
    "    \n",
    "    keep = missing_rows[missing_rows <= upper_limit]\n",
    "    df1 = df1.iloc[keep.index]\n",
    "    \n",
    "    # Re-Encode categorical features\n",
    "    categorical = feat_info[feat_info['type'].isin(['categorical'])]\n",
    "    \n",
    "    binary= []\n",
    "    multiple= []\n",
    "    for i in categorical.attribute:\n",
    "        try:\n",
    "            if df1[i].nunique() <= 2 and df1[i].dtype !='object':\n",
    "                binary.append(i)\n",
    "            elif df1[i].nunique() > 2:\n",
    "                multiple.append(i)\n",
    "        except:\n",
    "            pass\n",
    "            \n",
    "    df1['OST_WEST_KZ'] = df1['OST_WEST_KZ'].map({'W':0, 'O':1})\n",
    "    df1['OST_WEST_KZ'] = df1['OST_WEST_KZ'].astype('Int64')\n",
    "    \n",
    "    df1 = pd.get_dummies(df1, columns=multiple)\n",
    "    \n",
    "    # Engineer mixed-type features\n",
    "    mixed = feat_info[feat_info['type'].isin(['mixed'])]\n",
    "    \n",
    "    decade_map = {1:[1,2], 2:[3,4], 3:[5,6,7], 4:[8,9], 5:[10,11,12,13], 6:[14,15]}\n",
    "\n",
    "    def decade(x):\n",
    "        for i in decade_map:\n",
    "            if x in decade_map[i]:\n",
    "                return i\n",
    "            elif x is np.nan:\n",
    "                return np.nan\n",
    "    df1['PRAEGENDE_JUGENDJAHRE_dec'] = df1.PRAEGENDE_JUGENDJAHRE.apply(decade)\n",
    "    df1['PRAEGENDE_JUGENDJAHRE_dec'] = df1['PRAEGENDE_JUGENDJAHRE_dec'].astype('Int64')\n",
    "    \n",
    "    mainstream_map = [1,3,5,8,10,12,14]\n",
    "\n",
    "    def movement(x):\n",
    "            if x in mainstream_map:\n",
    "                return 0\n",
    "            elif x is np.nan:\n",
    "                return np.nan\n",
    "            else:\n",
    "                return 1\n",
    "\n",
    "    df1['PRAEGENDE_JUGENDJAHRE_mov'] = df1.PRAEGENDE_JUGENDJAHRE.apply(movement)\n",
    "    df1['PRAEGENDE_JUGENDJAHRE_mov'] = df1['PRAEGENDE_JUGENDJAHRE_mov'].astype('Int64')\n",
    "    \n",
    "\n",
    "    df1['CAMEO_INTL_2015_wealth'] = df1['CAMEO_INTL_2015']//10\n",
    "\n",
    "\n",
    "    df1['CAMEO_INTL_2015_life'] = df1['CAMEO_INTL_2015']%10\n",
    "    \n",
    "    mixed = mixed.attribute.values.tolist()\n",
    "    mixed.remove('KBA05_BAUMAX')\n",
    "    \n",
    "    df1.drop(mixed, axis=1, inplace=True)\n",
    "    \n",
    "    #Return the cleaned dataframe.\n",
    "    return df1"
   ]
  },
  {
   "cell_type": "markdown",
   "metadata": {},
   "source": [
    "## Step 2: Feature Transformation\n",
    "\n",
    "### Step 2.1: Apply Feature Scaling\n",
    "\n",
    "Before we apply dimensionality reduction techniques to the data, we need to perform feature scaling so that the principal component vectors are not influenced by the natural differences in scale for features. Starting from this part of the project, you'll want to keep an eye on the [API reference page for sklearn](http://scikit-learn.org/stable/modules/classes.html) to help you navigate to all of the classes and functions that you'll need. In this substep, you'll need to check the following:\n",
    "\n",
    "- sklearn requires that data not have missing values in order for its estimators to work properly. So, before applying the scaler to your data, make sure that you've cleaned the DataFrame of the remaining missing values. This can be as simple as just removing all data points with missing data, or applying an [Imputer](http://scikit-learn.org/stable/modules/generated/sklearn.preprocessing.Imputer.html) to replace all missing values. You might also try a more complicated procedure where you temporarily remove missing values in order to compute the scaling parameters before re-introducing those missing values and applying imputation. Think about how much missing data you have and what possible effects each approach might have on your analysis, and justify your decision in the discussion section below.\n",
    "- For the actual scaling function, a [StandardScaler](http://scikit-learn.org/stable/modules/generated/sklearn.preprocessing.StandardScaler.html) instance is suggested, scaling each feature to mean 0 and standard deviation 1.\n",
    "- For these classes, you can make use of the `.fit_transform()` method to both fit a procedure to the data as well as apply the transformation to the data at the same time. Don't forget to keep the fit sklearn objects handy, since you'll be applying them to the customer demographics data towards the end of the project."
   ]
  },
  {
   "cell_type": "code",
   "execution_count": 54,
   "metadata": {
    "scrolled": false
   },
   "outputs": [],
   "source": [
    "# Replace all missing values with imputer\n",
    "imp = SimpleImputer(strategy='median')\n",
    "azdias_imp = imp.fit_transform(encoded)"
   ]
  },
  {
   "cell_type": "code",
   "execution_count": 55,
   "metadata": {},
   "outputs": [],
   "source": [
    "# Apply feature scaling to the general population demographics data\n",
    "azdias_pca = pd.DataFrame(StandardScaler().fit_transform(azdias_imp), columns=encoded.columns)"
   ]
  },
  {
   "cell_type": "code",
   "execution_count": 56,
   "metadata": {
    "scrolled": true
   },
   "outputs": [
    {
     "data": {
      "text/html": [
       "<div>\n",
       "<style scoped>\n",
       "    .dataframe tbody tr th:only-of-type {\n",
       "        vertical-align: middle;\n",
       "    }\n",
       "\n",
       "    .dataframe tbody tr th {\n",
       "        vertical-align: top;\n",
       "    }\n",
       "\n",
       "    .dataframe thead th {\n",
       "        text-align: right;\n",
       "    }\n",
       "</style>\n",
       "<table border=\"1\" class=\"dataframe\">\n",
       "  <thead>\n",
       "    <tr style=\"text-align: right;\">\n",
       "      <th></th>\n",
       "      <th>ALTERSKATEGORIE_GROB</th>\n",
       "      <th>ANREDE_KZ</th>\n",
       "      <th>FINANZ_MINIMALIST</th>\n",
       "      <th>FINANZ_SPARER</th>\n",
       "      <th>FINANZ_VORSORGER</th>\n",
       "      <th>FINANZ_ANLEGER</th>\n",
       "      <th>FINANZ_UNAUFFAELLIGER</th>\n",
       "      <th>FINANZ_HAUSBAUER</th>\n",
       "      <th>GREEN_AVANTGARDE</th>\n",
       "      <th>HEALTH_TYP</th>\n",
       "      <th>...</th>\n",
       "      <th>CAMEO_DEU_2015_8D</th>\n",
       "      <th>CAMEO_DEU_2015_9A</th>\n",
       "      <th>CAMEO_DEU_2015_9B</th>\n",
       "      <th>CAMEO_DEU_2015_9C</th>\n",
       "      <th>CAMEO_DEU_2015_9D</th>\n",
       "      <th>CAMEO_DEU_2015_9E</th>\n",
       "      <th>PRAEGENDE_JUGENDJAHRE_dec</th>\n",
       "      <th>PRAEGENDE_JUGENDJAHRE_mov</th>\n",
       "      <th>CAMEO_INTL_2015_wealth</th>\n",
       "      <th>CAMEO_INTL_2015_life</th>\n",
       "    </tr>\n",
       "  </thead>\n",
       "  <tbody>\n",
       "    <tr>\n",
       "      <td>0</td>\n",
       "      <td>-1.754918</td>\n",
       "      <td>0.962859</td>\n",
       "      <td>-1.503661</td>\n",
       "      <td>1.559941</td>\n",
       "      <td>-1.049535</td>\n",
       "      <td>1.490708</td>\n",
       "      <td>1.013168</td>\n",
       "      <td>1.331159</td>\n",
       "      <td>-0.536372</td>\n",
       "      <td>1.073610</td>\n",
       "      <td>...</td>\n",
       "      <td>-0.152876</td>\n",
       "      <td>-0.164254</td>\n",
       "      <td>-0.19162</td>\n",
       "      <td>-0.180623</td>\n",
       "      <td>-0.195966</td>\n",
       "      <td>-0.087052</td>\n",
       "      <td>1.168841</td>\n",
       "      <td>-0.536372</td>\n",
       "      <td>1.170382</td>\n",
       "      <td>-1.259727</td>\n",
       "    </tr>\n",
       "    <tr>\n",
       "      <td>1</td>\n",
       "      <td>0.198237</td>\n",
       "      <td>0.962859</td>\n",
       "      <td>-1.503661</td>\n",
       "      <td>0.884836</td>\n",
       "      <td>-1.773085</td>\n",
       "      <td>-0.555630</td>\n",
       "      <td>0.291141</td>\n",
       "      <td>1.331159</td>\n",
       "      <td>1.864378</td>\n",
       "      <td>1.073610</td>\n",
       "      <td>...</td>\n",
       "      <td>-0.152876</td>\n",
       "      <td>-0.164254</td>\n",
       "      <td>-0.19162</td>\n",
       "      <td>-0.180623</td>\n",
       "      <td>-0.195966</td>\n",
       "      <td>-0.087052</td>\n",
       "      <td>1.168841</td>\n",
       "      <td>1.864378</td>\n",
       "      <td>-0.879407</td>\n",
       "      <td>0.755626</td>\n",
       "    </tr>\n",
       "    <tr>\n",
       "      <td>2</td>\n",
       "      <td>1.174815</td>\n",
       "      <td>0.962859</td>\n",
       "      <td>0.685685</td>\n",
       "      <td>-0.465374</td>\n",
       "      <td>1.121117</td>\n",
       "      <td>-0.555630</td>\n",
       "      <td>-1.152912</td>\n",
       "      <td>-0.831846</td>\n",
       "      <td>-0.536372</td>\n",
       "      <td>-0.270713</td>\n",
       "      <td>...</td>\n",
       "      <td>-0.152876</td>\n",
       "      <td>-0.164254</td>\n",
       "      <td>-0.19162</td>\n",
       "      <td>-0.180623</td>\n",
       "      <td>-0.195966</td>\n",
       "      <td>-0.087052</td>\n",
       "      <td>-0.214958</td>\n",
       "      <td>-0.536372</td>\n",
       "      <td>-1.562669</td>\n",
       "      <td>-0.587943</td>\n",
       "    </tr>\n",
       "    <tr>\n",
       "      <td>3</td>\n",
       "      <td>0.198237</td>\n",
       "      <td>-1.038573</td>\n",
       "      <td>0.685685</td>\n",
       "      <td>0.209731</td>\n",
       "      <td>0.397566</td>\n",
       "      <td>-1.237743</td>\n",
       "      <td>0.291141</td>\n",
       "      <td>-0.831846</td>\n",
       "      <td>-0.536372</td>\n",
       "      <td>1.073610</td>\n",
       "      <td>...</td>\n",
       "      <td>-0.152876</td>\n",
       "      <td>-0.164254</td>\n",
       "      <td>-0.19162</td>\n",
       "      <td>-0.180623</td>\n",
       "      <td>-0.195966</td>\n",
       "      <td>-0.087052</td>\n",
       "      <td>-0.214958</td>\n",
       "      <td>-0.536372</td>\n",
       "      <td>0.487119</td>\n",
       "      <td>0.083841</td>\n",
       "    </tr>\n",
       "    <tr>\n",
       "      <td>4</td>\n",
       "      <td>-1.754918</td>\n",
       "      <td>0.962859</td>\n",
       "      <td>-0.044097</td>\n",
       "      <td>-1.140479</td>\n",
       "      <td>1.121117</td>\n",
       "      <td>-0.555630</td>\n",
       "      <td>-0.430886</td>\n",
       "      <td>1.331159</td>\n",
       "      <td>-0.536372</td>\n",
       "      <td>1.073610</td>\n",
       "      <td>...</td>\n",
       "      <td>-0.152876</td>\n",
       "      <td>-0.164254</td>\n",
       "      <td>-0.19162</td>\n",
       "      <td>-0.180623</td>\n",
       "      <td>-0.195966</td>\n",
       "      <td>-0.087052</td>\n",
       "      <td>-1.598757</td>\n",
       "      <td>-0.536372</td>\n",
       "      <td>1.170382</td>\n",
       "      <td>0.755626</td>\n",
       "    </tr>\n",
       "  </tbody>\n",
       "</table>\n",
       "<p>5 rows × 192 columns</p>\n",
       "</div>"
      ],
      "text/plain": [
       "   ALTERSKATEGORIE_GROB  ANREDE_KZ  FINANZ_MINIMALIST  FINANZ_SPARER  \\\n",
       "0             -1.754918   0.962859          -1.503661       1.559941   \n",
       "1              0.198237   0.962859          -1.503661       0.884836   \n",
       "2              1.174815   0.962859           0.685685      -0.465374   \n",
       "3              0.198237  -1.038573           0.685685       0.209731   \n",
       "4             -1.754918   0.962859          -0.044097      -1.140479   \n",
       "\n",
       "   FINANZ_VORSORGER  FINANZ_ANLEGER  FINANZ_UNAUFFAELLIGER  FINANZ_HAUSBAUER  \\\n",
       "0         -1.049535        1.490708               1.013168          1.331159   \n",
       "1         -1.773085       -0.555630               0.291141          1.331159   \n",
       "2          1.121117       -0.555630              -1.152912         -0.831846   \n",
       "3          0.397566       -1.237743               0.291141         -0.831846   \n",
       "4          1.121117       -0.555630              -0.430886          1.331159   \n",
       "\n",
       "   GREEN_AVANTGARDE  HEALTH_TYP  ...  CAMEO_DEU_2015_8D  CAMEO_DEU_2015_9A  \\\n",
       "0         -0.536372    1.073610  ...          -0.152876          -0.164254   \n",
       "1          1.864378    1.073610  ...          -0.152876          -0.164254   \n",
       "2         -0.536372   -0.270713  ...          -0.152876          -0.164254   \n",
       "3         -0.536372    1.073610  ...          -0.152876          -0.164254   \n",
       "4         -0.536372    1.073610  ...          -0.152876          -0.164254   \n",
       "\n",
       "   CAMEO_DEU_2015_9B  CAMEO_DEU_2015_9C  CAMEO_DEU_2015_9D  CAMEO_DEU_2015_9E  \\\n",
       "0           -0.19162          -0.180623          -0.195966          -0.087052   \n",
       "1           -0.19162          -0.180623          -0.195966          -0.087052   \n",
       "2           -0.19162          -0.180623          -0.195966          -0.087052   \n",
       "3           -0.19162          -0.180623          -0.195966          -0.087052   \n",
       "4           -0.19162          -0.180623          -0.195966          -0.087052   \n",
       "\n",
       "   PRAEGENDE_JUGENDJAHRE_dec  PRAEGENDE_JUGENDJAHRE_mov  \\\n",
       "0                   1.168841                  -0.536372   \n",
       "1                   1.168841                   1.864378   \n",
       "2                  -0.214958                  -0.536372   \n",
       "3                  -0.214958                  -0.536372   \n",
       "4                  -1.598757                  -0.536372   \n",
       "\n",
       "   CAMEO_INTL_2015_wealth  CAMEO_INTL_2015_life  \n",
       "0                1.170382             -1.259727  \n",
       "1               -0.879407              0.755626  \n",
       "2               -1.562669             -0.587943  \n",
       "3                0.487119              0.083841  \n",
       "4                1.170382              0.755626  \n",
       "\n",
       "[5 rows x 192 columns]"
      ]
     },
     "execution_count": 56,
     "metadata": {},
     "output_type": "execute_result"
    }
   ],
   "source": [
    "azdias_pca.head()"
   ]
  },
  {
   "cell_type": "markdown",
   "metadata": {},
   "source": [
    "### Discussion 2.1: Apply Feature Scaling\n",
    "\n",
    "Missing values were replaced by with the median of each feature.  Median was deemed the most appropiate method here, as it was least affected by outliners and would always return a whole number in this scenario.  After cleaning, the dataset was then standardized by scaling each feature to a mean of 0 and standard deviation of 1."
   ]
  },
  {
   "cell_type": "markdown",
   "metadata": {},
   "source": [
    "### Step 2.2: Perform Dimensionality Reduction\n",
    "\n",
    "On your scaled data, you are now ready to apply dimensionality reduction techniques.\n",
    "\n",
    "- Use sklearn's [PCA](http://scikit-learn.org/stable/modules/generated/sklearn.decomposition.PCA.html) class to apply principal component analysis on the data, thus finding the vectors of maximal variance in the data. To start, you should not set any parameters (so all components are computed) or set a number of components that is at least half the number of features (so there's enough features to see the general trend in variability).\n",
    "- Check out the ratio of variance explained by each principal component as well as the cumulative variance explained. Try plotting the cumulative or sequential values using matplotlib's [`plot()`](https://matplotlib.org/api/_as_gen/matplotlib.pyplot.plot.html) function. Based on what you find, select a value for the number of transformed features you'll retain for the clustering part of the project.\n",
    "- Once you've made a choice for the number of components to keep, make sure you re-fit a PCA instance to perform the decided-on transformation."
   ]
  },
  {
   "cell_type": "code",
   "execution_count": 57,
   "metadata": {
    "scrolled": true
   },
   "outputs": [],
   "source": [
    "# Define PCA function\n",
    "def do_pca(data, n_components=None):\n",
    "    pca = PCA(n_components)\n",
    "    X_pca = pca.fit_transform(data)\n",
    "    return pca, X_pca"
   ]
  },
  {
   "cell_type": "code",
   "execution_count": 58,
   "metadata": {},
   "outputs": [],
   "source": [
    "#Scree plot function from Udacity \n",
    "def scree_plot(pca):\n",
    "    '''\n",
    "    Creates a scree plot associated with the principal components \n",
    "    \n",
    "    INPUT: pca - the result of instantian of PCA in scikit learn\n",
    "            \n",
    "    OUTPUT:\n",
    "            None\n",
    "    '''\n",
    "    num_components = len(pca.explained_variance_ratio_)\n",
    "    ind = np.arange(num_components)\n",
    "    vals = pca.explained_variance_ratio_\n",
    " \n",
    "    plt.figure(figsize=(20, 10))\n",
    "    ax = plt.subplot(111)\n",
    "    cumvals = np.cumsum(vals)\n",
    "    ax.bar(ind, vals)\n",
    "    ax.plot(ind, cumvals)\n",
    "    for i in range(num_components):\n",
    "        if (i%2 == 0):\n",
    "            ax.annotate(r\"%s%%\" % ((str(vals[i]*100)[:4])), (ind[i]+0.2, vals[i]), va=\"bottom\", ha=\"center\", fontsize=10)\n",
    " \n",
    "    ax.xaxis.set_tick_params(width=0)\n",
    "    ax.yaxis.set_tick_params(width=2, length=12)\n",
    " \n",
    "    ax.set_xlabel(\"Principal Component\")\n",
    "    ax.set_ylabel(\"Variance Explained (%)\")\n",
    "    plt.title('Explained Variance Per Principal Component')"
   ]
  },
  {
   "cell_type": "code",
   "execution_count": 59,
   "metadata": {
    "scrolled": true
   },
   "outputs": [],
   "source": [
    "#Apply PCA with default settings \n",
    "pca, X_pca = do_pca(azdias_pca)"
   ]
  },
  {
   "cell_type": "code",
   "execution_count": 60,
   "metadata": {
    "scrolled": false
   },
   "outputs": [
    {
     "data": {
      "image/png": "[encoded data removed]",
      "text/plain": [
       "<Figure size 1440x720 with 1 Axes>"
      ]
     },
     "metadata": {
      "needs_background": "light"
     },
     "output_type": "display_data"
    }
   ],
   "source": [
    "# Investigate the variance accounted for by each principal component.\n",
    "scree_plot(pca)"
   ]
  },
  {
   "cell_type": "code",
   "execution_count": 61,
   "metadata": {
    "scrolled": true
   },
   "outputs": [
    {
     "name": "stdout",
     "output_type": "stream",
     "text": [
      "We can see that 43 components explain 57.48% of the total variance.  The next component only adds an additional 0.0007319060936795685% to the variance and therefore dropped from our analysis\n"
     ]
    }
   ],
   "source": [
    "#Select the number of components to retain.\n",
    "variance = pca.explained_variance_ratio_ * 100\n",
    "\n",
    "total=[]\n",
    "for i in range(len(variance)):\n",
    "    slope = variance[i] - variance[i+1]\n",
    "    total.append(variance[i])\n",
    "    if slope < 0.001:\n",
    "        print(\"We can see that {} components explain {}% of the total variance.  The next component only adds an additional {}% to the variance and therefore dropped from our analysis\".format(i+1, round(sum(total),2), slope))\n",
    "        break"
   ]
  },
  {
   "cell_type": "code",
   "execution_count": 62,
   "metadata": {},
   "outputs": [],
   "source": [
    "#Re-apply PCA to the data while selecting for number of components to retain.\n",
    "pca, X_pca = do_pca(azdias_pca, 43)"
   ]
  },
  {
   "cell_type": "code",
   "execution_count": 63,
   "metadata": {},
   "outputs": [
    {
     "data": {
      "image/png": "[encoded data removed]",
      "text/plain": [
       "<Figure size 1440x720 with 1 Axes>"
      ]
     },
     "metadata": {
      "needs_background": "light"
     },
     "output_type": "display_data"
    }
   ],
   "source": [
    "scree_plot(pca)"
   ]
  },
  {
   "cell_type": "markdown",
   "metadata": {},
   "source": [
    "### Discussion 2.2: Perform Dimensionality Reduction\n",
    "\n",
    "43 components were kept as they could explain 57.48%, more than half of the total variance.  This was our cutoff point as adding a new feature would only improve our variance by 0.0007%, which was less than the 0.001% threshold."
   ]
  },
  {
   "cell_type": "markdown",
   "metadata": {},
   "source": [
    "### Step 2.3: Interpret Principal Components\n",
    "\n",
    "Now that we have our transformed principal components, it's a nice idea to check out the weight of each variable on the first few components to see if they can be interpreted in some fashion.\n",
    "\n",
    "As a reminder, each principal component is a unit vector that points in the direction of highest variance (after accounting for the variance captured by earlier principal components). The further a weight is from zero, the more the principal component is in the direction of the corresponding feature. If two features have large weights of the same sign (both positive or both negative), then increases in one tend expect to be associated with increases in the other. To contrast, features with different signs can be expected to show a negative correlation: increases in one variable should result in a decrease in the other.\n",
    "\n",
    "- To investigate the features, you should map each weight to their corresponding feature name, then sort the features according to weight. The most interesting features for each principal component, then, will be those at the beginning and end of the sorted list. Use the data dictionary document to help you understand these most prominent features, their relationships, and what a positive or negative value on the principal component might indicate.\n",
    "- You should investigate and interpret feature associations from the first three principal components in this substep. To help facilitate this, you should write a function that you can call at any time to print the sorted list of feature weights, for the *i*-th principal component. This might come in handy in the next step of the project, when you interpret the tendencies of the discovered clusters."
   ]
  },
  {
   "cell_type": "code",
   "execution_count": 64,
   "metadata": {},
   "outputs": [],
   "source": [
    "#Create function to display feature weights\n",
    "def pca_results(pca, n):\n",
    "    \n",
    "    column = ['Component_{}'.format(n)]\n",
    "    n = n - 1\n",
    "    \n",
    "    #Create dataframe\n",
    "    components = pd.DataFrame(np.round(pca.components_[n], 4), index= azdias_pca.columns, columns=column)\n",
    "    top5 = components.sort_values(by=column, ascending=False).iloc[:5]\n",
    "    bottom5 = components.sort_values(by=column, ascending=False).iloc[-5:]\n",
    "    full = pd.concat([top5,bottom5]).transpose()\n",
    "   \n",
    "    #Create graph\n",
    "    full.plot(kind = 'bar', figsize=[10,7])\n",
    "    plt.xticks(rotation=0)\n",
    "    \n",
    "    return full"
   ]
  },
  {
   "cell_type": "code",
   "execution_count": 65,
   "metadata": {
    "scrolled": true
   },
   "outputs": [
    {
     "data": {
      "text/html": [
       "<div>\n",
       "<style scoped>\n",
       "    .dataframe tbody tr th:only-of-type {\n",
       "        vertical-align: middle;\n",
       "    }\n",
       "\n",
       "    .dataframe tbody tr th {\n",
       "        vertical-align: top;\n",
       "    }\n",
       "\n",
       "    .dataframe thead th {\n",
       "        text-align: right;\n",
       "    }\n",
       "</style>\n",
       "<table border=\"1\" class=\"dataframe\">\n",
       "  <thead>\n",
       "    <tr style=\"text-align: right;\">\n",
       "      <th></th>\n",
       "      <th>LP_STATUS_GROB_1</th>\n",
       "      <th>HH_EINKOMMEN_SCORE</th>\n",
       "      <th>CAMEO_INTL_2015_wealth</th>\n",
       "      <th>PLZ8_ANTG3</th>\n",
       "      <th>PLZ8_ANTG4</th>\n",
       "      <th>KBA05_GBZ</th>\n",
       "      <th>PLZ8_ANTG1</th>\n",
       "      <th>KBA05_ANTG1</th>\n",
       "      <th>FINANZ_MINIMALIST</th>\n",
       "      <th>MOBI_REGIO</th>\n",
       "    </tr>\n",
       "  </thead>\n",
       "  <tbody>\n",
       "    <tr>\n",
       "      <td>Component_1</td>\n",
       "      <td>0.1957</td>\n",
       "      <td>0.1852</td>\n",
       "      <td>0.1849</td>\n",
       "      <td>0.1815</td>\n",
       "      <td>0.1756</td>\n",
       "      <td>-0.1823</td>\n",
       "      <td>-0.1826</td>\n",
       "      <td>-0.1917</td>\n",
       "      <td>-0.1927</td>\n",
       "      <td>-0.2057</td>\n",
       "    </tr>\n",
       "  </tbody>\n",
       "</table>\n",
       "</div>"
      ],
      "text/plain": [
       "             LP_STATUS_GROB_1  HH_EINKOMMEN_SCORE  CAMEO_INTL_2015_wealth  \\\n",
       "Component_1            0.1957              0.1852                  0.1849   \n",
       "\n",
       "             PLZ8_ANTG3  PLZ8_ANTG4  KBA05_GBZ  PLZ8_ANTG1  KBA05_ANTG1  \\\n",
       "Component_1      0.1815      0.1756    -0.1823     -0.1826      -0.1917   \n",
       "\n",
       "             FINANZ_MINIMALIST  MOBI_REGIO  \n",
       "Component_1            -0.1927     -0.2057  "
      ]
     },
     "execution_count": 65,
     "metadata": {},
     "output_type": "execute_result"
    },
    {
     "data": {
      "image/png": "[encoded data removed]",
      "text/plain": [
       "<Figure size 720x504 with 1 Axes>"
      ]
     },
     "metadata": {
      "needs_background": "light"
     },
     "output_type": "display_data"
    }
   ],
   "source": [
    "# Map weights for the first principal component to corresponding feature names\n",
    "# and then print the linked values, sorted by weight.\n",
    "pca_results(pca,1)"
   ]
  },
  {
   "cell_type": "code",
   "execution_count": 66,
   "metadata": {},
   "outputs": [
    {
     "data": {
      "text/html": [
       "<div>\n",
       "<style scoped>\n",
       "    .dataframe tbody tr th:only-of-type {\n",
       "        vertical-align: middle;\n",
       "    }\n",
       "\n",
       "    .dataframe tbody tr th {\n",
       "        vertical-align: top;\n",
       "    }\n",
       "\n",
       "    .dataframe thead th {\n",
       "        text-align: right;\n",
       "    }\n",
       "</style>\n",
       "<table border=\"1\" class=\"dataframe\">\n",
       "  <thead>\n",
       "    <tr style=\"text-align: right;\">\n",
       "      <th></th>\n",
       "      <th>ALTERSKATEGORIE_GROB</th>\n",
       "      <th>FINANZ_VORSORGER</th>\n",
       "      <th>ZABEOTYP_3</th>\n",
       "      <th>SEMIO_ERL</th>\n",
       "      <th>SEMIO_LUST</th>\n",
       "      <th>SEMIO_TRADV</th>\n",
       "      <th>FINANZ_UNAUFFAELLIGER</th>\n",
       "      <th>SEMIO_REL</th>\n",
       "      <th>FINANZ_SPARER</th>\n",
       "      <th>PRAEGENDE_JUGENDJAHRE_dec</th>\n",
       "    </tr>\n",
       "  </thead>\n",
       "  <tbody>\n",
       "    <tr>\n",
       "      <td>Component_2</td>\n",
       "      <td>0.2306</td>\n",
       "      <td>0.2153</td>\n",
       "      <td>0.2002</td>\n",
       "      <td>0.1806</td>\n",
       "      <td>0.1616</td>\n",
       "      <td>-0.2066</td>\n",
       "      <td>-0.2121</td>\n",
       "      <td>-0.2142</td>\n",
       "      <td>-0.2235</td>\n",
       "      <td>-0.2351</td>\n",
       "    </tr>\n",
       "  </tbody>\n",
       "</table>\n",
       "</div>"
      ],
      "text/plain": [
       "             ALTERSKATEGORIE_GROB  FINANZ_VORSORGER  ZABEOTYP_3  SEMIO_ERL  \\\n",
       "Component_2                0.2306            0.2153      0.2002     0.1806   \n",
       "\n",
       "             SEMIO_LUST  SEMIO_TRADV  FINANZ_UNAUFFAELLIGER  SEMIO_REL  \\\n",
       "Component_2      0.1616      -0.2066                -0.2121    -0.2142   \n",
       "\n",
       "             FINANZ_SPARER  PRAEGENDE_JUGENDJAHRE_dec  \n",
       "Component_2        -0.2235                    -0.2351  "
      ]
     },
     "execution_count": 66,
     "metadata": {},
     "output_type": "execute_result"
    },
    {
     "data": {
      "image/png": "[encoded data removed]",
      "text/plain": [
       "<Figure size 720x504 with 1 Axes>"
      ]
     },
     "metadata": {
      "needs_background": "light"
     },
     "output_type": "display_data"
    }
   ],
   "source": [
    "# Map weights for the second principal component to corresponding feature names\n",
    "# and then print the linked values, sorted by weight.\n",
    "pca_results(pca,2)"
   ]
  },
  {
   "cell_type": "code",
   "execution_count": 67,
   "metadata": {},
   "outputs": [
    {
     "data": {
      "text/html": [
       "<div>\n",
       "<style scoped>\n",
       "    .dataframe tbody tr th:only-of-type {\n",
       "        vertical-align: middle;\n",
       "    }\n",
       "\n",
       "    .dataframe tbody tr th {\n",
       "        vertical-align: top;\n",
       "    }\n",
       "\n",
       "    .dataframe thead th {\n",
       "        text-align: right;\n",
       "    }\n",
       "</style>\n",
       "<table border=\"1\" class=\"dataframe\">\n",
       "  <thead>\n",
       "    <tr style=\"text-align: right;\">\n",
       "      <th></th>\n",
       "      <th>SEMIO_VERT</th>\n",
       "      <th>SEMIO_FAM</th>\n",
       "      <th>SEMIO_SOZ</th>\n",
       "      <th>SEMIO_KULT</th>\n",
       "      <th>FINANZTYP_5</th>\n",
       "      <th>SEMIO_ERL</th>\n",
       "      <th>SEMIO_KRIT</th>\n",
       "      <th>SEMIO_DOM</th>\n",
       "      <th>SEMIO_KAEM</th>\n",
       "      <th>ANREDE_KZ</th>\n",
       "    </tr>\n",
       "  </thead>\n",
       "  <tbody>\n",
       "    <tr>\n",
       "      <td>Component_3</td>\n",
       "      <td>0.3202</td>\n",
       "      <td>0.26</td>\n",
       "      <td>0.2574</td>\n",
       "      <td>0.2479</td>\n",
       "      <td>0.1372</td>\n",
       "      <td>-0.2048</td>\n",
       "      <td>-0.2625</td>\n",
       "      <td>-0.2814</td>\n",
       "      <td>-0.3147</td>\n",
       "      <td>-0.3445</td>\n",
       "    </tr>\n",
       "  </tbody>\n",
       "</table>\n",
       "</div>"
      ],
      "text/plain": [
       "             SEMIO_VERT  SEMIO_FAM  SEMIO_SOZ  SEMIO_KULT  FINANZTYP_5  \\\n",
       "Component_3      0.3202       0.26     0.2574      0.2479       0.1372   \n",
       "\n",
       "             SEMIO_ERL  SEMIO_KRIT  SEMIO_DOM  SEMIO_KAEM  ANREDE_KZ  \n",
       "Component_3    -0.2048     -0.2625    -0.2814     -0.3147    -0.3445  "
      ]
     },
     "execution_count": 67,
     "metadata": {},
     "output_type": "execute_result"
    },
    {
     "data": {
      "image/png": "[encoded data removed]",
      "text/plain": [
       "<Figure size 720x504 with 1 Axes>"
      ]
     },
     "metadata": {
      "needs_background": "light"
     },
     "output_type": "display_data"
    }
   ],
   "source": [
    "# Map weights for the third principal component to corresponding feature names\n",
    "# and then print the linked values, sorted by weight.\n",
    "pca_results(pca,3)"
   ]
  },
  {
   "cell_type": "markdown",
   "metadata": {},
   "source": [
    "### Discussion 2.3: Interpret Principal Components\n",
    "\n",
    "(Double-click this cell and replace this text with your own text, reporting your observations from detailed investigation of the first few principal components generated. Can we interpret positive and negative values from them in a meaningful way?)\n",
    "\n",
    "**First principal component:** We could see that low-income earners and numbers of 10+ family homes are correlated, which implies that the poor in the region have large families.  Sequentially, poverty is also negatively correlated with 1-2 family home, which further cements the sentiment.\n",
    "\n",
    "Positive\n",
    "1. Low-income earners (*LP_STATUS_GROB_1*)\n",
    "2. Estimated household net income (*HH_EINKOMMEN_SCORE*)\n",
    "3. Household Wealth (*CAMEO_INTL_2015_wealth*)\n",
    "4. Number of 6-10 family houses in the PLZ8 region (*PLZ8_ANTG3*)\n",
    "5. Number of 10+ family houses in the PLZ8 region (*PLZ8_ANTG4)*\n",
    "\n",
    "Negative\n",
    "1. Movement patterns (*MOBI_REGIO*)\n",
    "2. Financial typology (*FINANZ_MINIMALIST*)\n",
    "3. Number of 1-2 family houses in the microcell (*KBA05_ANTG1*)\n",
    "4. Number of 1-2 family houses in the PLZ8 region (*PLZ8_ANTG1*)\n",
    "5. Number of buildings in the microcell (*KBA05_GBZ)*\n",
    "\n",
    "**Second principal component:** People who are estimated to be > 60 years old have a low affinity for event-oriented and sensual-minded individuals, but a high affinity for religious and tradional-minded personalities.  Unsurprisingly, the estimated age and the decade of one's youth are negatively correlated as an elder person is likely to spent most of his/her youth in the first half of the century.\n",
    "\n",
    "Positive\n",
    "\n",
    "1. Estimated age based on given name analysis (*ALTERSKATEGORIE_GROB*)\n",
    "2. Financial typology - be prepared (*FINANZ_VORSORGER*)\n",
    "3. Energy consumption (*ZABEOTYP_3*)\n",
    "4. Personality typology - event-oriented (*SEMIO_ERL*)\n",
    "5. Personality typology - sensual-minded (*SEMIO_LUST)*\n",
    "\n",
    "Negative\n",
    "\n",
    "1. Dominating movement of person's youth - decade (*PRAEGENDE_JUGENDJAHRE_dec*)\n",
    "2. Financial typology - money-saver (*FINANZ_SPARER*)\n",
    "3. Personality typology - religious (*SEMIO_REL*)\n",
    "4. Financial typology  - inconspicuous (*FINANZ_UNAUFFAELLIGER*)\n",
    "5. Personality typology - traditional-minded (*SEMIO_TRADV)*\n",
    "\n",
    "**Third principal component:**\n",
    "This component primarily focuses on the different types of personalities.  We could see that traits such as dreamful, family-minded, socially-mind, and cultural-minded are related to each other, and are correlated with people who consider themselves as investors.  On the other hand, combative attitude, dominant-minded, critical-minded, and event-oriented personalities are negatively correlated to the earlier traits.  \n",
    "\n",
    "Positive\n",
    "\n",
    "1. Personality typology - dreamful (*SEMIO_VERT*)\n",
    "2. Personality typology - family-minded (*SEMIO_FAM*)\n",
    "3. Personality typology - socially-minded (*SEMIO_SOZ*)\n",
    "4. Personality typology - cultural-minded (*SEMIO_KULT*)\n",
    "5. Most descriptive financial type for individual - investor (*FINANZTYP_5)*\n",
    "\n",
    "Negative\n",
    "\n",
    "1. Gender (*ANREDE_KZ*)\n",
    "2. Personality typology - combative attitude (*SEMIO_KAEM*)\n",
    "3. Personality typology - dominant-minded (*SEMIO_DOM*)\n",
    "4. Personality typology - critical-minded (*SEMIO_KRIT*)\n",
    "5. Personality typology - event-oriented (*SEMIO_ERL*)"
   ]
  },
  {
   "cell_type": "markdown",
   "metadata": {},
   "source": [
    "## Step 3: Clustering\n",
    "\n",
    "### Step 3.1: Apply Clustering to General Population\n",
    "\n",
    "You've assessed and cleaned the demographics data, then scaled and transformed them. Now, it's time to see how the data clusters in the principal components space. In this substep, you will apply k-means clustering to the dataset and use the average within-cluster distances from each point to their assigned cluster's centroid to decide on a number of clusters to keep.\n",
    "\n",
    "- Use sklearn's [KMeans](http://scikit-learn.org/stable/modules/generated/sklearn.cluster.KMeans.html#sklearn.cluster.KMeans) class to perform k-means clustering on the PCA-transformed data.\n",
    "- Then, compute the average difference from each point to its assigned cluster's center. **Hint**: The KMeans object's `.score()` method might be useful here, but note that in sklearn, scores tend to be defined so that larger is better. Try applying it to a small, toy dataset, or use an internet search to help your understanding.\n",
    "- Perform the above two steps for a number of different cluster counts. You can then see how the average distance decreases with an increasing number of clusters. However, each additional cluster provides a smaller net benefit. Use this fact to select a final number of clusters in which to group the data. **Warning**: because of the large size of the dataset, it can take a long time for the algorithm to resolve. The more clusters to fit, the longer the algorithm will take. You should test for cluster counts through at least 10 clusters to get the full picture, but you shouldn't need to test for a number of clusters above about 30.\n",
    "- Once you've selected a final number of clusters to use, re-fit a KMeans instance to perform the clustering operation. Make sure that you also obtain the cluster assignments for the general demographics data, since you'll be using them in the final Step 3.3."
   ]
  },
  {
   "cell_type": "code",
   "execution_count": null,
   "metadata": {},
   "outputs": [],
   "source": [
    "# Over a number of different cluster counts...\n",
    "\n",
    "\n",
    "    # run k-means clustering on the data and...\n",
    "    \n",
    "    \n",
    "    # compute the average within-cluster distances.\n",
    "    \n",
    "    "
   ]
  },
  {
   "cell_type": "code",
   "execution_count": null,
   "metadata": {},
   "outputs": [],
   "source": [
    "# Investigate the change in within-cluster distance across number of clusters.\n",
    "# HINT: Use matplotlib's plot function to visualize this relationship.\n",
    "\n"
   ]
  },
  {
   "cell_type": "code",
   "execution_count": null,
   "metadata": {},
   "outputs": [],
   "source": [
    "# Re-fit the k-means model with the selected number of clusters and obtain\n",
    "# cluster predictions for the general population demographics data.\n",
    "\n"
   ]
  },
  {
   "cell_type": "markdown",
   "metadata": {},
   "source": [
    "### Discussion 3.1: Apply Clustering to General Population\n",
    "\n",
    "(Double-click this cell and replace this text with your own text, reporting your findings and decisions regarding clustering. Into how many clusters have you decided to segment the population?)"
   ]
  },
  {
   "cell_type": "markdown",
   "metadata": {},
   "source": [
    "### Step 3.2: Apply All Steps to the Customer Data\n",
    "\n",
    "Now that you have clusters and cluster centers for the general population, it's time to see how the customer data maps on to those clusters. Take care to not confuse this for re-fitting all of the models to the customer data. Instead, you're going to use the fits from the general population to clean, transform, and cluster the customer data. In the last step of the project, you will interpret how the general population fits apply to the customer data.\n",
    "\n",
    "- Don't forget when loading in the customers data, that it is semicolon (`;`) delimited.\n",
    "- Apply the same feature wrangling, selection, and engineering steps to the customer demographics using the `clean_data()` function you created earlier. (You can assume that the customer demographics data has similar meaning behind missing data patterns as the general demographics data.)\n",
    "- Use the sklearn objects from the general demographics data, and apply their transformations to the customers data. That is, you should not be using a `.fit()` or `.fit_transform()` method to re-fit the old objects, nor should you be creating new sklearn objects! Carry the data through the feature scaling, PCA, and clustering steps, obtaining cluster assignments for all of the data in the customer demographics data."
   ]
  },
  {
   "cell_type": "code",
   "execution_count": null,
   "metadata": {},
   "outputs": [],
   "source": [
    "# Load in the customer demographics data.\n",
    "customers = "
   ]
  },
  {
   "cell_type": "code",
   "execution_count": null,
   "metadata": {},
   "outputs": [],
   "source": [
    "# Apply preprocessing, feature transformation, and clustering from the general\n",
    "# demographics onto the customer data, obtaining cluster predictions for the\n",
    "# customer demographics data.\n",
    "\n"
   ]
  },
  {
   "cell_type": "markdown",
   "metadata": {},
   "source": [
    "### Step 3.3: Compare Customer Data to Demographics Data\n",
    "\n",
    "At this point, you have clustered data based on demographics of the general population of Germany, and seen how the customer data for a mail-order sales company maps onto those demographic clusters. In this final substep, you will compare the two cluster distributions to see where the strongest customer base for the company is.\n",
    "\n",
    "Consider the proportion of persons in each cluster for the general population, and the proportions for the customers. If we think the company's customer base to be universal, then the cluster assignment proportions should be fairly similar between the two. If there are only particular segments of the population that are interested in the company's products, then we should see a mismatch from one to the other. If there is a higher proportion of persons in a cluster for the customer data compared to the general population (e.g. 5% of persons are assigned to a cluster for the general population, but 15% of the customer data is closest to that cluster's centroid) then that suggests the people in that cluster to be a target audience for the company. On the other hand, the proportion of the data in a cluster being larger in the general population than the customer data (e.g. only 2% of customers closest to a population centroid that captures 6% of the data) suggests that group of persons to be outside of the target demographics.\n",
    "\n",
    "Take a look at the following points in this step:\n",
    "\n",
    "- Compute the proportion of data points in each cluster for the general population and the customer data. Visualizations will be useful here: both for the individual dataset proportions, but also to visualize the ratios in cluster representation between groups. Seaborn's [`countplot()`](https://seaborn.pydata.org/generated/seaborn.countplot.html) or [`barplot()`](https://seaborn.pydata.org/generated/seaborn.barplot.html) function could be handy.\n",
    "  - Recall the analysis you performed in step 1.1.3 of the project, where you separated out certain data points from the dataset if they had more than a specified threshold of missing values. If you found that this group was qualitatively different from the main bulk of the data, you should treat this as an additional data cluster in this analysis. Make sure that you account for the number of data points in this subset, for both the general population and customer datasets, when making your computations!\n",
    "- Which cluster or clusters are overrepresented in the customer dataset compared to the general population? Select at least one such cluster and infer what kind of people might be represented by that cluster. Use the principal component interpretations from step 2.3 or look at additional components to help you make this inference. Alternatively, you can use the `.inverse_transform()` method of the PCA and StandardScaler objects to transform centroids back to the original data space and interpret the retrieved values directly.\n",
    "- Perform a similar investigation for the underrepresented clusters. Which cluster or clusters are underrepresented in the customer dataset compared to the general population, and what kinds of people are typified by these clusters?"
   ]
  },
  {
   "cell_type": "code",
   "execution_count": null,
   "metadata": {},
   "outputs": [],
   "source": [
    "# Compare the proportion of data in each cluster for the customer data to the\n",
    "# proportion of data in each cluster for the general population.\n",
    "\n"
   ]
  },
  {
   "cell_type": "code",
   "execution_count": null,
   "metadata": {},
   "outputs": [],
   "source": [
    "# What kinds of people are part of a cluster that is overrepresented in the\n",
    "# customer data compared to the general population?\n",
    "\n"
   ]
  },
  {
   "cell_type": "code",
   "execution_count": null,
   "metadata": {},
   "outputs": [],
   "source": [
    "# What kinds of people are part of a cluster that is underrepresented in the\n",
    "# customer data compared to the general population?\n",
    "\n"
   ]
  },
  {
   "cell_type": "markdown",
   "metadata": {},
   "source": [
    "### Discussion 3.3: Compare Customer Data to Demographics Data\n",
    "\n",
    "(Double-click this cell and replace this text with your own text, reporting findings and conclusions from the clustering analysis. Can we describe segments of the population that are relatively popular with the mail-order company, or relatively unpopular with the company?)"
   ]
  },
  {
   "cell_type": "markdown",
   "metadata": {},
   "source": [
    "> Congratulations on making it this far in the project! Before you finish, make sure to check through the entire notebook from top to bottom to make sure that your analysis follows a logical flow and all of your findings are documented in **Discussion** cells. Once you've checked over all of your work, you should export the notebook as an HTML document to submit for evaluation. You can do this from the menu, navigating to **File -> Download as -> HTML (.html)**. You will submit both that document and this notebook for your project submission."
   ]
  },
  {
   "cell_type": "code",
   "execution_count": null,
   "metadata": {},
   "outputs": [],
   "source": []
  }
 ],
 "metadata": {
  "kernelspec": {
   "display_name": "Python 3",
   "language": "python",
   "name": "python3"
  },
  "language_info": {
   "codemirror_mode": {
    "name": "ipython",
    "version": 3
   },
   "file_extension": ".py",
   "mimetype": "text/x-python",
   "name": "python",
   "nbconvert_exporter": "python",
   "pygments_lexer": "ipython3",
   "version": "3.7.1"
  }
 },
 "nbformat": 4,
 "nbformat_minor": 2
}
